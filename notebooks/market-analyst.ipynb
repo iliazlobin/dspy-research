{
 "cells": [
  {
   "cell_type": "code",
   "execution_count": 1,
   "metadata": {},
   "outputs": [],
   "source": [
    "%load_ext autoreload\n",
    "%load_ext dotenv\n",
    "%dotenv\n",
    "# !huggingface-cli login --token $HUGGING_FACE_TOKEN"
   ]
  },
  {
   "cell_type": "code",
   "execution_count": null,
   "metadata": {},
   "outputs": [],
   "source": [
    "# %%capture\n",
    "# %pip install dspy"
   ]
  },
  {
   "cell_type": "code",
   "execution_count": 2,
   "metadata": {},
   "outputs": [
    {
     "data": {
      "text/plain": [
       "[{'long_text': 'Perplexity, the AI search engine startup, is a hot property at the moment. TechCrunch has learned that the company is currently raising at least $250 million more at a valuation of between $2.5 billion and $3 billion. The news comes on the heels of two other big fundraises that have seen the company’s valuation leapfrog in the last four months: In January, the company raised nearly $74 million at a valuation of $540 million (up from $121 million in April 2023).'},\n",
       " {'long_text': 'And at the beginning of March, the company closed funding on a valuation of $1 billion, with CEO Aravind Srinivas clarifying on Twitter today that the amount raised was roughly $63 million. Those two reported rounds are not the full story. We understand from multiple sources close to the company that Perplexity is raising a further round of at least $250 million to capitalize on the attention it’s getting in the market.'}]"
      ]
     },
     "execution_count": 2,
     "metadata": {},
     "output_type": "execute_result"
    }
   ],
   "source": [
    "from dspy.retrieve.you_rm import YouRM\n",
    "\n",
    "# colbert_retriever = dspy.ColBERTv2(url='http://20.102.90.50:2017/wiki17_abstracts')\n",
    "\n",
    "you_retriever = YouRM()\n",
    "results = you_retriever.forward('What is the latest confirmed valuation of Perplexity. Include date, raised amount, the series name of the funding round and VCs')\n",
    "results[:2]"
   ]
  },
  {
   "cell_type": "code",
   "execution_count": 3,
   "metadata": {},
   "outputs": [],
   "source": [
    "import dspy\n",
    "from dspy.evaluate import Evaluate\n",
    "from dspy.retrieve.you_rm import YouRM\n",
    "\n",
    "gpt3_model = dspy.OpenAI('gpt-3.5-turbo-0125', max_tokens=1000)\n",
    "\n",
    "dspy.configure(lm=gpt3_model, rm=you_retriever)\n",
    "# dspy.configure(lm=gpt3_model)"
   ]
  },
  {
   "cell_type": "code",
   "execution_count": 9,
   "metadata": {},
   "outputs": [
    {
     "name": "stdout",
     "output_type": "stream",
     "text": [
      "skip\n"
     ]
    }
   ],
   "source": [
    "%%script echo skip\n",
    "\n",
    "from dspy.datasets.hotpotqa import HotPotQA\n",
    "\n",
    "dataset = HotPotQA(train_seed=1, train_size=200, eval_seed=2023, dev_size=300, test_size=0)\n",
    "trainset = [x.with_inputs('question') for x in dataset.train[0:150]]\n",
    "valset = [x.with_inputs('question') for x in dataset.train[150:200]]\n",
    "devset = [x.with_inputs('question') for x in dataset.dev]\n",
    "\n",
    "# show an example datapoint; it's just a question-answer pair\n",
    "trainset\n",
    "# trainset[0]"
   ]
  },
  {
   "cell_type": "code",
   "execution_count": 98,
   "metadata": {},
   "outputs": [
    {
     "name": "stdout",
     "output_type": "stream",
     "text": [
      "[Example({'question': 'What is the latest confirmed valuation of Perplexity. Include date, raised amount, the series name of the funding round and VCs', 'company': 'Perplexity', 'valuation': '$1B', 'date': 'April 2024', 'raised': '$62.7M', 'round': 'Series B1', 'VCs': 'Daniel Gross'}) (input_keys={'question'})]\n",
      "[Example({'question': 'What is the latest confirmed valuation of Stability AI. Include date, raised amount, the series name of the funding round and VCs', 'company': 'Stability AI', 'valuation': '$1B', 'date': 'September 2022', 'raised': '$101M', 'round': '', 'VCs': 'Coatue, Lightspeed Venture Partners'}) (input_keys={'question'})]\n",
      "[Example({'question': 'What is the latest confirmed valuation of Runway. Include date, raised amount, the series name of the funding round and VCs', 'company': 'Runway'}) (input_keys={'question'})]\n"
     ]
    }
   ],
   "source": [
    "from dspy.primitives import Example\n",
    "\n",
    "trainset = [\n",
    "    Example(\n",
    "        {\n",
    "            \"companiesToCompare\": \"Anthropic, Cohere\",\n",
    "            \"valuationComparison\": \"Anthropic has a higher valuation ($18.4B) than Cohere ($5B)\",\n",
    "            \"numberOfEmployeesComparison\": \"Cohere has much more employees (275) than Anthropic (75)\",\n",
    "            \"yearOfFoundation\": \"Cohere was founded earlier (2019) than Anthropic (2021)\",\n",
    "            \"peoplesPerspective\": \"People prefer Anthropic over Cohere for speed and models perfromance. People prefer Cohere over Anthropic for affordability, better ranking\",\n",
    "        }\n",
    "    ),\n",
    "]\n",
    "trainset = [x.with_inputs(\"question\") for x in trainset]\n",
    "print(trainset[:1])"
   ]
  }
 ],
 "metadata": {
  "kernelspec": {
   "display_name": "pytorch-3.10",
   "language": "python",
   "name": "python3"
  },
  "language_info": {
   "codemirror_mode": {
    "name": "ipython",
    "version": 3
   },
   "file_extension": ".py",
   "mimetype": "text/x-python",
   "name": "python",
   "nbconvert_exporter": "python",
   "pygments_lexer": "ipython3",
   "version": "3.10.14"
  }
 },
 "nbformat": 4,
 "nbformat_minor": 2
}
