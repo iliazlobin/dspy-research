{
 "cells": [
  {
   "cell_type": "code",
   "execution_count": 21,
   "metadata": {},
   "outputs": [
    {
     "name": "stdout",
     "output_type": "stream",
     "text": [
      "The autoreload extension is already loaded. To reload it, use:\n",
      "  %reload_ext autoreload\n",
      "The dotenv extension is already loaded. To reload it, use:\n",
      "  %reload_ext dotenv\n"
     ]
    }
   ],
   "source": [
    "%load_ext autoreload\n",
    "%load_ext dotenv\n",
    "%dotenv"
   ]
  },
  {
   "cell_type": "code",
   "execution_count": 22,
   "metadata": {},
   "outputs": [
    {
     "name": "stdout",
     "output_type": "stream",
     "text": [
      "Requirement already satisfied: dspy in /home/izlobin/miniconda3/envs/pytorch-3.10/lib/python3.10/site-packages (0.1.5)\n",
      "Requirement already satisfied: dspy-ai==2.4.5 in /home/izlobin/miniconda3/envs/pytorch-3.10/lib/python3.10/site-packages (from dspy) (2.4.5)\n",
      "Requirement already satisfied: backoff~=2.2.1 in /home/izlobin/miniconda3/envs/pytorch-3.10/lib/python3.10/site-packages (from dspy-ai==2.4.5->dspy) (2.2.1)\n",
      "Requirement already satisfied: joblib~=1.3.2 in /home/izlobin/miniconda3/envs/pytorch-3.10/lib/python3.10/site-packages (from dspy-ai==2.4.5->dspy) (1.3.2)\n",
      "Requirement already satisfied: openai<2.0.0,>=0.28.1 in /home/izlobin/miniconda3/envs/pytorch-3.10/lib/python3.10/site-packages (from dspy-ai==2.4.5->dspy) (1.28.1)\n",
      "Requirement already satisfied: pandas in /home/izlobin/.local/lib/python3.10/site-packages (from dspy-ai==2.4.5->dspy) (2.2.2)\n",
      "Requirement already satisfied: regex in /home/izlobin/.local/lib/python3.10/site-packages (from dspy-ai==2.4.5->dspy) (2023.12.25)\n",
      "Requirement already satisfied: ujson in /home/izlobin/miniconda3/envs/pytorch-3.10/lib/python3.10/site-packages (from dspy-ai==2.4.5->dspy) (5.9.0)\n",
      "Requirement already satisfied: tqdm in /home/izlobin/.local/lib/python3.10/site-packages (from dspy-ai==2.4.5->dspy) (4.66.2)\n",
      "Requirement already satisfied: datasets<3.0.0,~=2.14.6 in /home/izlobin/miniconda3/envs/pytorch-3.10/lib/python3.10/site-packages (from dspy-ai==2.4.5->dspy) (2.14.7)\n",
      "Requirement already satisfied: requests in /home/izlobin/.local/lib/python3.10/site-packages (from dspy-ai==2.4.5->dspy) (2.31.0)\n",
      "Requirement already satisfied: optuna in /home/izlobin/miniconda3/envs/pytorch-3.10/lib/python3.10/site-packages (from dspy-ai==2.4.5->dspy) (3.6.1)\n",
      "Requirement already satisfied: pydantic==2.5.0 in /home/izlobin/miniconda3/envs/pytorch-3.10/lib/python3.10/site-packages (from dspy-ai==2.4.5->dspy) (2.5.0)\n",
      "Requirement already satisfied: annotated-types>=0.4.0 in /home/izlobin/.local/lib/python3.10/site-packages (from pydantic==2.5.0->dspy-ai==2.4.5->dspy) (0.6.0)\n",
      "Requirement already satisfied: pydantic-core==2.14.1 in /home/izlobin/miniconda3/envs/pytorch-3.10/lib/python3.10/site-packages (from pydantic==2.5.0->dspy-ai==2.4.5->dspy) (2.14.1)\n",
      "Requirement already satisfied: typing-extensions>=4.6.1 in /home/izlobin/.local/lib/python3.10/site-packages (from pydantic==2.5.0->dspy-ai==2.4.5->dspy) (4.11.0)\n",
      "Requirement already satisfied: numpy>=1.17 in /home/izlobin/.local/lib/python3.10/site-packages (from datasets<3.0.0,~=2.14.6->dspy-ai==2.4.5->dspy) (1.26.4)\n",
      "Requirement already satisfied: pyarrow>=8.0.0 in /home/izlobin/.local/lib/python3.10/site-packages (from datasets<3.0.0,~=2.14.6->dspy-ai==2.4.5->dspy) (15.0.2)\n",
      "Requirement already satisfied: pyarrow-hotfix in /home/izlobin/.local/lib/python3.10/site-packages (from datasets<3.0.0,~=2.14.6->dspy-ai==2.4.5->dspy) (0.6)\n",
      "Requirement already satisfied: dill<0.3.8,>=0.3.0 in /home/izlobin/miniconda3/envs/pytorch-3.10/lib/python3.10/site-packages (from datasets<3.0.0,~=2.14.6->dspy-ai==2.4.5->dspy) (0.3.7)\n",
      "Requirement already satisfied: xxhash in /home/izlobin/.local/lib/python3.10/site-packages (from datasets<3.0.0,~=2.14.6->dspy-ai==2.4.5->dspy) (3.4.1)\n",
      "Requirement already satisfied: multiprocess in /home/izlobin/miniconda3/envs/pytorch-3.10/lib/python3.10/site-packages (from datasets<3.0.0,~=2.14.6->dspy-ai==2.4.5->dspy) (0.70.15)\n",
      "Requirement already satisfied: fsspec<=2023.10.0,>=2023.1.0 in /home/izlobin/miniconda3/envs/pytorch-3.10/lib/python3.10/site-packages (from fsspec[http]<=2023.10.0,>=2023.1.0->datasets<3.0.0,~=2.14.6->dspy-ai==2.4.5->dspy) (2023.10.0)\n",
      "Requirement already satisfied: aiohttp in /home/izlobin/.local/lib/python3.10/site-packages (from datasets<3.0.0,~=2.14.6->dspy-ai==2.4.5->dspy) (3.9.4)\n",
      "Requirement already satisfied: huggingface-hub<1.0.0,>=0.14.0 in /home/izlobin/.local/lib/python3.10/site-packages (from datasets<3.0.0,~=2.14.6->dspy-ai==2.4.5->dspy) (0.22.2)\n",
      "Requirement already satisfied: packaging in /home/izlobin/.local/lib/python3.10/site-packages (from datasets<3.0.0,~=2.14.6->dspy-ai==2.4.5->dspy) (24.0)\n",
      "Requirement already satisfied: pyyaml>=5.1 in /home/izlobin/.local/lib/python3.10/site-packages (from datasets<3.0.0,~=2.14.6->dspy-ai==2.4.5->dspy) (6.0.1)\n",
      "Requirement already satisfied: anyio<5,>=3.5.0 in /home/izlobin/.local/lib/python3.10/site-packages (from openai<2.0.0,>=0.28.1->dspy-ai==2.4.5->dspy) (4.3.0)\n",
      "Requirement already satisfied: distro<2,>=1.7.0 in /home/izlobin/miniconda3/envs/pytorch-3.10/lib/python3.10/site-packages (from openai<2.0.0,>=0.28.1->dspy-ai==2.4.5->dspy) (1.9.0)\n",
      "Requirement already satisfied: httpx<1,>=0.23.0 in /home/izlobin/miniconda3/envs/pytorch-3.10/lib/python3.10/site-packages (from openai<2.0.0,>=0.28.1->dspy-ai==2.4.5->dspy) (0.27.0)\n",
      "Requirement already satisfied: sniffio in /home/izlobin/.local/lib/python3.10/site-packages (from openai<2.0.0,>=0.28.1->dspy-ai==2.4.5->dspy) (1.3.0)\n",
      "Requirement already satisfied: charset-normalizer<4,>=2 in /home/izlobin/.local/lib/python3.10/site-packages (from requests->dspy-ai==2.4.5->dspy) (3.3.2)\n",
      "Requirement already satisfied: idna<4,>=2.5 in /home/izlobin/.local/lib/python3.10/site-packages (from requests->dspy-ai==2.4.5->dspy) (3.6)\n",
      "Requirement already satisfied: urllib3<3,>=1.21.1 in /home/izlobin/.local/lib/python3.10/site-packages (from requests->dspy-ai==2.4.5->dspy) (2.2.1)\n",
      "Requirement already satisfied: certifi>=2017.4.17 in /home/izlobin/.local/lib/python3.10/site-packages (from requests->dspy-ai==2.4.5->dspy) (2024.2.2)\n",
      "Requirement already satisfied: alembic>=1.5.0 in /home/izlobin/miniconda3/envs/pytorch-3.10/lib/python3.10/site-packages (from optuna->dspy-ai==2.4.5->dspy) (1.13.1)\n",
      "Requirement already satisfied: colorlog in /home/izlobin/miniconda3/envs/pytorch-3.10/lib/python3.10/site-packages (from optuna->dspy-ai==2.4.5->dspy) (6.8.2)\n",
      "Requirement already satisfied: sqlalchemy>=1.3.0 in /home/izlobin/miniconda3/envs/pytorch-3.10/lib/python3.10/site-packages (from optuna->dspy-ai==2.4.5->dspy) (2.0.29)\n",
      "Requirement already satisfied: python-dateutil>=2.8.2 in /home/izlobin/.local/lib/python3.10/site-packages (from pandas->dspy-ai==2.4.5->dspy) (2.9.0.post0)\n",
      "Requirement already satisfied: pytz>=2020.1 in /home/izlobin/.local/lib/python3.10/site-packages (from pandas->dspy-ai==2.4.5->dspy) (2024.1)\n",
      "Requirement already satisfied: tzdata>=2022.7 in /home/izlobin/.local/lib/python3.10/site-packages (from pandas->dspy-ai==2.4.5->dspy) (2024.1)\n",
      "Requirement already satisfied: Mako in /home/izlobin/miniconda3/envs/pytorch-3.10/lib/python3.10/site-packages (from alembic>=1.5.0->optuna->dspy-ai==2.4.5->dspy) (1.3.3)\n",
      "Requirement already satisfied: exceptiongroup>=1.0.2 in /home/izlobin/.local/lib/python3.10/site-packages (from anyio<5,>=3.5.0->openai<2.0.0,>=0.28.1->dspy-ai==2.4.5->dspy) (1.2.0)\n",
      "Requirement already satisfied: aiosignal>=1.1.2 in /home/izlobin/.local/lib/python3.10/site-packages (from aiohttp->datasets<3.0.0,~=2.14.6->dspy-ai==2.4.5->dspy) (1.3.1)\n",
      "Requirement already satisfied: attrs>=17.3.0 in /home/izlobin/.local/lib/python3.10/site-packages (from aiohttp->datasets<3.0.0,~=2.14.6->dspy-ai==2.4.5->dspy) (23.2.0)\n",
      "Requirement already satisfied: frozenlist>=1.1.1 in /home/izlobin/.local/lib/python3.10/site-packages (from aiohttp->datasets<3.0.0,~=2.14.6->dspy-ai==2.4.5->dspy) (1.4.1)\n",
      "Requirement already satisfied: multidict<7.0,>=4.5 in /home/izlobin/.local/lib/python3.10/site-packages (from aiohttp->datasets<3.0.0,~=2.14.6->dspy-ai==2.4.5->dspy) (6.0.5)\n",
      "Requirement already satisfied: yarl<2.0,>=1.0 in /home/izlobin/.local/lib/python3.10/site-packages (from aiohttp->datasets<3.0.0,~=2.14.6->dspy-ai==2.4.5->dspy) (1.9.4)\n",
      "Requirement already satisfied: async-timeout<5.0,>=4.0 in /home/izlobin/.local/lib/python3.10/site-packages (from aiohttp->datasets<3.0.0,~=2.14.6->dspy-ai==2.4.5->dspy) (4.0.3)\n",
      "Requirement already satisfied: httpcore==1.* in /home/izlobin/miniconda3/envs/pytorch-3.10/lib/python3.10/site-packages (from httpx<1,>=0.23.0->openai<2.0.0,>=0.28.1->dspy-ai==2.4.5->dspy) (1.0.5)\n",
      "Requirement already satisfied: h11<0.15,>=0.13 in /home/izlobin/miniconda3/envs/pytorch-3.10/lib/python3.10/site-packages (from httpcore==1.*->httpx<1,>=0.23.0->openai<2.0.0,>=0.28.1->dspy-ai==2.4.5->dspy) (0.14.0)\n",
      "Requirement already satisfied: filelock in /home/izlobin/.local/lib/python3.10/site-packages (from huggingface-hub<1.0.0,>=0.14.0->datasets<3.0.0,~=2.14.6->dspy-ai==2.4.5->dspy) (3.13.3)\n",
      "Requirement already satisfied: six>=1.5 in /home/izlobin/.local/lib/python3.10/site-packages (from python-dateutil>=2.8.2->pandas->dspy-ai==2.4.5->dspy) (1.16.0)\n",
      "Requirement already satisfied: greenlet!=0.4.17 in /home/izlobin/miniconda3/envs/pytorch-3.10/lib/python3.10/site-packages (from sqlalchemy>=1.3.0->optuna->dspy-ai==2.4.5->dspy) (3.0.3)\n",
      "Requirement already satisfied: MarkupSafe>=0.9.2 in /home/izlobin/.local/lib/python3.10/site-packages (from Mako->alembic>=1.5.0->optuna->dspy-ai==2.4.5->dspy) (2.1.5)\n",
      "Note: you may need to restart the kernel to use updated packages.\n"
     ]
    }
   ],
   "source": [
    "# %%capture\n",
    "%pip install dspy"
   ]
  },
  {
   "cell_type": "code",
   "execution_count": 2,
   "metadata": {},
   "outputs": [
    {
     "data": {
      "text/plain": [
       "[{'long_text': 'Perplexity, the AI search engine startup, is a hot property at the moment. TechCrunch has learned that the company is currently raising at least $250 million more at a valuation of between $2.5 billion and $3 billion. The news comes on the heels of two other big fundraises that have seen the company’s valuation leapfrog in the last four months: In January, the company raised nearly $74 million at a valuation of $540 million (up from $121 million in April 2023).'},\n",
       " {'long_text': 'And at the beginning of March, the company closed funding on a valuation of $1 billion, with CEO Aravind Srinivas clarifying on Twitter today that the amount raised was roughly $63 million. Those two reported rounds are not the full story. We understand from multiple sources close to the company that Perplexity is raising a further round of at least $250 million to capitalize on the attention it’s getting in the market.'}]"
      ]
     },
     "execution_count": 2,
     "metadata": {},
     "output_type": "execute_result"
    }
   ],
   "source": [
    "from dspy.retrieve.you_rm import YouRM\n",
    "\n",
    "# colbert_retriever = dspy.ColBERTv2(url='http://20.102.90.50:2017/wiki17_abstracts')\n",
    "\n",
    "you_retriever = YouRM()\n",
    "results = you_retriever.forward('What is the latest confirmed valuation of Perplexity. Include date, raised amount, the series name of the funding round and VCs')\n",
    "results[:2]"
   ]
  },
  {
   "cell_type": "code",
   "execution_count": 4,
   "metadata": {},
   "outputs": [],
   "source": [
    "import dspy\n",
    "from dspy.evaluate import Evaluate\n",
    "from dspy.retrieve.you_rm import YouRM\n",
    "\n",
    "gpt3_model = dspy.OpenAI('gpt-3.5-turbo-0125', max_tokens=1000)\n",
    "\n",
    "dspy.configure(lm=gpt3_model, rm=you_retriever)\n",
    "# dspy.configure(lm=gpt3_model)"
   ]
  },
  {
   "cell_type": "code",
   "execution_count": 5,
   "metadata": {},
   "outputs": [
    {
     "name": "stdout",
     "output_type": "stream",
     "text": [
      "skip\n"
     ]
    }
   ],
   "source": [
    "%%script echo skip\n",
    "\n",
    "from dspy.datasets.hotpotqa import HotPotQA\n",
    "\n",
    "dataset = HotPotQA(train_seed=1, train_size=200, eval_seed=2023, dev_size=300, test_size=0)\n",
    "trainset = [x.with_inputs('question') for x in dataset.train[0:150]]\n",
    "valset = [x.with_inputs('question') for x in dataset.train[150:200]]\n",
    "devset = [x.with_inputs('question') for x in dataset.dev]\n",
    "\n",
    "# show an example datapoint; it's just a question-answer pair\n",
    "trainset\n",
    "# trainset[0]"
   ]
  },
  {
   "cell_type": "code",
   "execution_count": 6,
   "metadata": {},
   "outputs": [
    {
     "name": "stdout",
     "output_type": "stream",
     "text": [
      "[Example({'question': 'What is the latest confirmed valuation of Perplexity. Include date, raised amount, the series name of the funding round and VCs', 'company': 'Perplexity', 'valuation': '$1B', 'date': 'April 2024', 'raised': '$62.7M', 'round': 'Series B1', 'VCs': 'Daniel Gross'}) (input_keys={'question'})]\n",
      "[Example({'question': 'What is the latest confirmed valuation of Stability AI. Include date, raised amount, the series name of the funding round and VCs', 'company': 'Stability AI', 'valuation': '$1B', 'date': 'September 2022', 'raised': '$101M', 'round': '', 'VCs': 'Coatue, Lightspeed Venture Partners'}) (input_keys={'question'})]\n",
      "[Example({'question': 'What is the latest confirmed valuation of Runway. Include date, raised amount, the series name of the funding round and VCs', 'company': 'Runway'}) (input_keys={'question'})]\n"
     ]
    }
   ],
   "source": [
    "from dspy.primitives import Example\n",
    "\n",
    "trainset = [\n",
    "    Example(\n",
    "        {\n",
    "            \"question\": \"What is the latest confirmed valuation of Perplexity. Include date, raised amount, the series name of the funding round and VCs\",\n",
    "            \"company\": \"Perplexity\",\n",
    "            \"valuation\": \"$1B\",\n",
    "            \"date\": \"April 2024\",\n",
    "            \"raised\": \"$62.7M\",\n",
    "            \"round\": \"Series B1\",\n",
    "            \"VCs\": \"Daniel Gross\",\n",
    "        }\n",
    "    ),\n",
    "    Example(\n",
    "        {\n",
    "            \"question\": \"What is the latest confirmed valuation of Cohere. Include date, raised amount, the series name of the funding round and VCs\",\n",
    "            \"company\": \"Cohere\",\n",
    "            \"valuation\": \"$2.2B\",\n",
    "            \"date\": \"June 2023\",\n",
    "            \"raised\": \"$62.7M\",\n",
    "            \"round\": \"Series C\",\n",
    "            \"VCs\": \"Inovia Capital\",\n",
    "        }\n",
    "    ),\n",
    "    Example(\n",
    "        {\n",
    "            \"question\": \"What is the latest confirmed valuation of Anthropic. Include date, raised amount, the series name of the funding round and VCs\",\n",
    "            \"company\": \"Anthropic\",\n",
    "            \"valuation\": \"$18.4B\",\n",
    "            \"date\": \"December 2023\",\n",
    "            \"raised\": \"$750M\",\n",
    "            \"round\": \"Series C\",\n",
    "            \"VCs\": \"Menlo Ventures\",\n",
    "        }\n",
    "    ),\n",
    "    Example(\n",
    "        {\n",
    "            \"question\": \"What is the latest confirmed valuation of Groq. Include date, raised amount, the series name of the funding round and VCs\",\n",
    "            \"company\": \"Groq\",\n",
    "            \"valuation\": \"$1B\",\n",
    "            \"date\": \"February 2024\",\n",
    "            \"raised\": \"$149.9M\",\n",
    "            \"round\": \"Series C\",\n",
    "            \"VCs\": \"Tiger Global, D1 Capital\",\n",
    "        }\n",
    "    ),\n",
    "    Example(\n",
    "        {\n",
    "            \"question\": \"What is the latest confirmed valuation of Weaviate. Include date, raised amount, the series name of the funding round and VCs\",\n",
    "            \"company\": \"Weaviate\",\n",
    "            \"valuation\": \"$200M\",\n",
    "            \"date\": \"April 2023\",\n",
    "            \"raised\": \"$50M\",\n",
    "            \"round\": \"Series B\",\n",
    "            \"VCs\": \"Index Ventures\",\n",
    "        }\n",
    "    ),\n",
    "]\n",
    "trainset = [x.with_inputs(\"question\") for x in trainset]\n",
    "print(trainset[:1])\n",
    "\n",
    "from dspy.primitives import Example\n",
    "\n",
    "devset = [\n",
    "    Example(\n",
    "        {\n",
    "            \"question\": \"What is the latest confirmed valuation of Stability AI. Include date, raised amount, the series name of the funding round and VCs\",\n",
    "            \"company\": \"Stability AI\",\n",
    "            \"valuation\": \"$1B\",\n",
    "            \"date\": \"September 2022\",\n",
    "            \"raised\": \"$101M\",\n",
    "            \"round\": \"\",\n",
    "            \"VCs\": \"Coatue, Lightspeed Venture Partners\",\n",
    "        }\n",
    "    ),\n",
    "    Example(\n",
    "        {\n",
    "            \"question\": \"What is the latest confirmed valuation of Databricks. Include date, raised amount, the series name of the funding round and VCs\",\n",
    "            \"company\": \"Databricks\",\n",
    "            \"valuation\": \"$43B\",\n",
    "            \"date\": \"September 2023\",\n",
    "            \"raised\": \"$500M\",\n",
    "            \"round\": \"Series I\",\n",
    "            \"VCs\": \"T. Rowe Price Associates\",\n",
    "        }\n",
    "    ),\n",
    "    Example(\n",
    "        {\n",
    "            \"question\": \"What is the latest confirmed valuation of Hugging Face. Include date, raised amount, the series name of the funding round and VCs\",\n",
    "            \"company\": \"Hugging Face\",\n",
    "            \"valuation\": \"$4.5B\",\n",
    "            \"date\": \"August 2023\",\n",
    "            \"raised\": \"$235M\",\n",
    "            \"round\": \"Series D\",\n",
    "            \"VCs\": \"Salesforce Ventures\",\n",
    "        }\n",
    "    ),\n",
    "    Example(\n",
    "        {\n",
    "            \"question\": \"What is the latest confirmed valuation of Cognition. Include date, raised amount, the series name of the funding round and VCs\",\n",
    "            \"company\": \"Cognition\",\n",
    "            \"valuation\": \"$2B\",\n",
    "            \"date\": \"Aipril 2024\",\n",
    "            \"raised\": \"$175M\",\n",
    "            \"round\": \"Series A\",\n",
    "            \"VCs\": \"Founders Fund\",\n",
    "        }\n",
    "    ),\n",
    "    Example(\n",
    "        {\n",
    "            \"question\": \"What is the latest confirmed valuation of Mistral AI. Include date, raised amount, the series name of the funding round and VCs\",\n",
    "            \"company\": \"Mistral AI\",\n",
    "            \"valuation\": \"$2B\",\n",
    "            \"date\": \"December 2023\",\n",
    "            \"raised\": \"$415M\",\n",
    "            \"round\": \"Series A\",\n",
    "            \"VCs\": \"Lightspeed Venture Partners, General Catalyst\",\n",
    "        }\n",
    "    ),\n",
    "]\n",
    "devset = [x.with_inputs(\"question\") for x in devset]\n",
    "print(devset[:1])\n",
    "\n",
    "from dspy.primitives import Example\n",
    "\n",
    "testset = [\n",
    "    Example(\n",
    "        {\n",
    "            \"question\": \"What is the latest confirmed valuation of Runway. Include date, raised amount, the series name of the funding round and VCs\",\n",
    "            \"company\": \"Runway\",\n",
    "        }\n",
    "    ),\n",
    "    Example(\n",
    "        {\n",
    "            \"question\": \"What is the latest confirmed valuation of ElevenLabs. Include date, raised amount, the series name of the funding round and VCs\",\n",
    "            \"company\": \"ElevenLabs\",\n",
    "        }\n",
    "    ),\n",
    "    Example(\n",
    "        {\n",
    "            \"question\": \"What is the latest confirmed valuation of Pika. Include date, raised amount, the series name of the funding round and VCs\",\n",
    "            \"company\": \"Pika\",\n",
    "        }\n",
    "    ),\n",
    "    Example(\n",
    "        {\n",
    "            \"question\": \"What is the latest confirmed valuation of Writer. Include date, raised amount, the series name of the funding round and VCs\",\n",
    "            \"company\": \"Writer\",\n",
    "        }\n",
    "    ),\n",
    "    Example(\n",
    "        {\n",
    "            \"question\": \"What is the latest confirmed valuation of AI21 Labs. Include date, raised amount, the series name of the funding round and VCs\",\n",
    "            \"company\": \"AI21 Labs\",\n",
    "        }\n",
    "    ),\n",
    "]\n",
    "testset = [x.with_inputs(\"question\") for x in testset]\n",
    "print(testset[:1])"
   ]
  },
  {
   "cell_type": "code",
   "execution_count": 33,
   "metadata": {},
   "outputs": [],
   "source": [
    "# agent = dspy.ReAct(\"question -> answer\", tools=[dspy.Retrieve(k=1)])\n",
    "# predictor = dspy.Predict(\"input -> valuation, date\", tools=[dspy.Retrieve(k=1)])\n",
    "\n",
    "predictor = dspy.Predict(\"question -> valuation, date, raised, round, VCs\")\n",
    "# predictor = dspy.Predict(\"copmany -> valuation, date, raised, round, VCs\")\n",
    "# predictor = dspy.Predict(\"company -> valuation\")"
   ]
  },
  {
   "cell_type": "code",
   "execution_count": 34,
   "metadata": {},
   "outputs": [
    {
     "name": "stdout",
     "output_type": "stream",
     "text": [
      "Example({'question': 'What is the latest confirmed valuation of Stability AI. Include date, raised amount, the series name of the funding round and VCs', 'company': 'Stability AI', 'valuation': '$1B', 'date': 'September 2022', 'raised': '$101M', 'round': '', 'VCs': 'Coatue, Lightspeed Venture Partners'}) (input_keys={'question'})\n",
      "Prediction(\n",
      "    valuation='$100 million',\n",
      "    date='October 15, 2021',\n",
      "    raised='$20 million',\n",
      "    round='Series B\\n\\nVCs: Sequoia Capital, Accel Partners',\n",
      "    VCs='Sequoia Capital, Accel Partners'\n",
      ")\n"
     ]
    }
   ],
   "source": [
    "# test plain\n",
    "\n",
    "print(devset[0])\n",
    "# result = predictor(company = devset[0].company)\n",
    "result = predictor(question = devset[0].question)\n",
    "print(result)"
   ]
  },
  {
   "cell_type": "code",
   "execution_count": 9,
   "metadata": {},
   "outputs": [],
   "source": [
    "class AssessValuation(dspy.Signature):\n",
    "    \"\"\"Assess the prediction of the valuation amount based on the actual (reference) data provided.\"\"\"\n",
    "\n",
    "    predicted_valuation = dspy.InputField(desc=\"Predicted company valuation\")\n",
    "    actual_valuation = dspy.InputField(desc=\"Actual company valuation\")\n",
    "    assessment = dspy.OutputField(desc=\"Valid or Invalid\")\n",
    "\n",
    "\n",
    "class AssessDate(dspy.Signature):\n",
    "    \"\"\"Assess the prediction of the valuation date based on the actual (reference) data provided.\"\"\"\n",
    "\n",
    "    predicted_date = dspy.InputField(\n",
    "        desc=\"Predicted date when the valuation was confirmed\"\n",
    "    )\n",
    "    actual_date = dspy.InputField(desc=\"Actual date when the valuation was confirmed\")\n",
    "    assessment = dspy.OutputField(desc=\"Valid or Invalid\")\n",
    "\n",
    "\n",
    "class AssessRaised(dspy.Signature):\n",
    "    \"\"\"Assess the prediction of the raised amount based on the actual (reference) data provided.\"\"\"\n",
    "\n",
    "    predicted_raised = dspy.InputField(desc=\"Predicted the raised amount\")\n",
    "    actual_raised = dspy.InputField(desc=\"Actual raised amount\")\n",
    "    assessment = dspy.OutputField(desc=\"Valid or Invalid\")\n",
    "\n",
    "\n",
    "class AssessRound(dspy.Signature):\n",
    "    \"\"\"Assess the prediction of series name of the funding round based on the actual (reference) data provided.\"\"\"\n",
    "\n",
    "    predicted_round = dspy.InputField(desc=\"Predicted series name of the funding round\")\n",
    "    actual_round = dspy.InputField(desc=\"Actual series name of the funding round\")\n",
    "    assessment = dspy.OutputField(desc=\"Valid or Invalid\")\n",
    "\n",
    "\n",
    "class AssessVCs(dspy.Signature):\n",
    "    \"\"\"Assess the prediction of VCs based on the actual (reference) data provided.\"\"\"\n",
    "\n",
    "    predicted_vcs = dspy.InputField(desc=\"Predicted VCs\")\n",
    "    actual_vcs = dspy.InputField(desc=\"Actual VCs\")\n",
    "    assessment = dspy.OutputField(desc=\"Valid or Invalid\")\n",
    "\n",
    "\n",
    "def metric(reference, pred, trace=None):\n",
    "    with dspy.context(lm=gpt3_model):\n",
    "        valuation_assessment = dspy.Predict(AssessValuation)(\n",
    "            predicted_valuation=pred.valuation,\n",
    "            actual_valuation=reference.valuation,\n",
    "        )\n",
    "        date_assessment = dspy.Predict(AssessDate)(\n",
    "            predicted_date=pred.date, actual_date=reference.date\n",
    "        )\n",
    "        raised_assessment = dspy.Predict(AssessRaised)(\n",
    "            predicted_raised=pred.raised, actual_raised=reference.raised\n",
    "        )\n",
    "        round_assessment = dspy.Predict(AssessRound)(\n",
    "            predicted_round=pred.round, actual_round=reference.round\n",
    "        )\n",
    "        vcs_assessment = dspy.Predict(AssessVCs)(\n",
    "            predicted_vcs=pred.VCs, actual_vcs=reference.VCs\n",
    "        )\n",
    "\n",
    "    # Explained: split()[0]: take the first word off of \"Invalid\\n\\nThe predicted valuation of $10....\"\n",
    "    valuation_score, date_score, raised_score, round_score, vcs_score = (\n",
    "        # valuation_score, raised_score = (\n",
    "        1 if m.assessment.split()[0].lower() == \"valid\" else 0\n",
    "        for m in [\n",
    "            valuation_assessment,\n",
    "            date_assessment,\n",
    "            raised_assessment,\n",
    "            round_assessment,\n",
    "            vcs_assessment,\n",
    "        ]\n",
    "    )\n",
    "\n",
    "    print()\n",
    "    print(\n",
    "        f\"company: {reference.company}: {valuation_score} {date_score} {raised_score} {round_score} {vcs_score}\"\n",
    "    )\n",
    "    # print(f\"company: {reference.company}: {valuation_score} {raised_score}\")\n",
    "    print(f\"reference: {reference}\")\n",
    "    print(f\"predicted: {pred}\")\n",
    "\n",
    "    score = valuation_score + date_score + raised_score + round_score + vcs_score\n",
    "    # score = valuation_score + raised_score\n",
    "    return score / 5.0"
   ]
  },
  {
   "cell_type": "code",
   "execution_count": 11,
   "metadata": {},
   "outputs": [
    {
     "name": "stderr",
     "output_type": "stream",
     "text": [
      "Average Metric: 0.0 / 5  (0.0): 100%|██████████| 5/5 [00:00<00:00, 613.01it/s]"
     ]
    },
    {
     "name": "stdout",
     "output_type": "stream",
     "text": [
      "\n",
      "company: Stability AI: 0 0 0 0 0\n",
      "reference: Example({'question': 'What is the latest confirmed valuation of Stability AI. Include date, raised amount, the series name of the funding round and VCs', 'company': 'Stability AI', 'valuation': '$1B', 'date': 'September 2022', 'raised': '$101M', 'round': '', 'VCs': 'Coatue, Lightspeed Venture Partners'}) (input_keys={'question'})\n",
      "predicted: Prediction(\n",
      "    valuation='$100 million',\n",
      "    date='October 15, 2021',\n",
      "    raised='$20 million',\n",
      "    round='Series B\\n\\nVCs: Sequoia Capital, Accel Partners',\n",
      "    VCs='Sequoia Capital, Accel Partners'\n",
      ")\n",
      "\n",
      "company: Databricks: 0 0 0 0 0\n",
      "reference: Example({'question': 'What is the latest confirmed valuation of Databricks. Include date, raised amount, the series name of the funding round and VCs', 'company': 'Databricks', 'valuation': '$43B', 'date': 'September 2023', 'raised': '$500M', 'round': 'Series I', 'VCs': 'T. Rowe Price Associates'}) (input_keys={'question'})\n",
      "predicted: Prediction(\n",
      "    valuation='$38 billion',\n",
      "    date='February 1, 2022',\n",
      "    raised='$1.6 billion',\n",
      "    round='Series H\\n\\nVCs: Franklin Templeton, Canada Pension Plan Investment Board, Fidelity Management & Research Company, Whale Rock Capital Management, and others',\n",
      "    VCs='Question: What is the latest confirmed valuation of Databricks. Include date, raised amount, the series name of the funding round and VCs\\n\\nValuation: $38 billion\\n\\nDate: February 1, 2022\\n\\nRaised: $1.6 billion\\n\\nRound: Series H\\n\\nVCs: Franklin Templeton, Canada Pension Plan Investment Board, Fidelity Management & Research Company, Whale Rock Capital Management, and others'\n",
      ")\n",
      "\n",
      "company: Hugging Face: 0 0 0 0 0\n",
      "reference: Example({'question': 'What is the latest confirmed valuation of Hugging Face. Include date, raised amount, the series name of the funding round and VCs', 'company': 'Hugging Face', 'valuation': '$4.5B', 'date': 'August 2023', 'raised': '$235M', 'round': 'Series D', 'VCs': 'Salesforce Ventures'}) (input_keys={'question'})\n",
      "predicted: Prediction(\n",
      "    valuation='$1.5 billion',\n",
      "    date='September 2021',\n",
      "    raised='$100 million',\n",
      "    round='Series C\\n\\nVCs: Addition, Lux Capital, A.Capital, and others',\n",
      "    VCs='Question: What is the latest confirmed valuation of Hugging Face. Include date, raised amount, the series name of the funding round and VCs\\n\\nValuation: $1.5 billion\\n\\nDate: September 2021\\n\\nRaised: $100 million\\n\\nRound: Series C\\n\\nVCs: Addition, Lux Capital, A.Capital, and others'\n",
      ")\n",
      "\n",
      "company: Cognition: 0 0 0 0 0\n",
      "reference: Example({'question': 'What is the latest confirmed valuation of Cognition. Include date, raised amount, the series name of the funding round and VCs', 'company': 'Cognition', 'valuation': '$2B', 'date': 'Aipril 2024', 'raised': '$175M', 'round': 'Series A', 'VCs': 'Founders Fund'}) (input_keys={'question'})\n",
      "predicted: Prediction(\n",
      "    valuation='$100 million',\n",
      "    date='October 15, 2021',\n",
      "    raised='$20 million',\n",
      "    round='Series B\\n\\nVCs: Sequoia Capital, Bessemer Venture Partners',\n",
      "    VCs='Sequoia Capital, Bessemer Venture Partners'\n",
      ")\n",
      "\n",
      "company: Mistral AI: 0 0 0 0 0\n",
      "reference: Example({'question': 'What is the latest confirmed valuation of Mistral AI. Include date, raised amount, the series name of the funding round and VCs', 'company': 'Mistral AI', 'valuation': '$2B', 'date': 'December 2023', 'raised': '$415M', 'round': 'Series A', 'VCs': 'Lightspeed Venture Partners, General Catalyst'}) (input_keys={'question'})\n",
      "predicted: Prediction(\n",
      "    valuation='$1 billion',\n",
      "    date='October 15, 2021',\n",
      "    raised='$100 million',\n",
      "    round='Series C\\n\\nVCs: Sequoia Capital, Andreessen Horowitz',\n",
      "    VCs='Sequoia Capital, Andreessen Horowitz'\n",
      ")\n",
      "Average Metric: 0.0 / 5  (0.0%)\n"
     ]
    },
    {
     "name": "stderr",
     "output_type": "stream",
     "text": [
      "\n"
     ]
    },
    {
     "data": {
      "text/plain": [
       "0.0"
      ]
     },
     "execution_count": 11,
     "metadata": {},
     "output_type": "execute_result"
    }
   ],
   "source": [
    "from dspy.evaluate import Evaluate\n",
    "\n",
    "evaluate = Evaluate(devset=devset[:], metric=metric, num_threads=1, display_progress=True, display_table=False, display=True)\n",
    "evaluate(predictor, devset=devset[:])"
   ]
  },
  {
   "cell_type": "code",
   "execution_count": 12,
   "metadata": {},
   "outputs": [],
   "source": [
    "class CompanyValuation(dspy.Signature):\n",
    "    \"\"\"Company's latest confirmed valuation.\"\"\"\n",
    "\n",
    "    context = dspy.InputField(desc=\"Contains relevant facts about the company\")\n",
    "    question = dspy.InputField(desc=\"The question about company valuation\")\n",
    "    # company = dspy.InputField(desc=\"The name of the copmany\")\n",
    "    valuation = dspy.OutputField(desc=\"Company valuation\")\n",
    "    date = dspy.OutputField(desc=\"When the valuation was confirmed\")\n",
    "    raised = dspy.OutputField(desc=\"Amount raised in the latest funding round\")\n",
    "    round = dspy.OutputField(desc=\"the series name of the funding round (Series A, Series B, etc)\")\n",
    "    VCs = dspy.OutputField(desc=\"Venture capitalists involved in the latest funding round\")\n",
    "\n",
    "class RAG(dspy.Module):\n",
    "    def __init__(self):\n",
    "        super().__init__()\n",
    "\n",
    "        self.retrieve = dspy.Retrieve()\n",
    "        # self.generate = dspy.ChainOfThought(CompanyValuation)\n",
    "        self.generate = dspy.Predict(CompanyValuation)\n",
    "\n",
    "    def forward(self, question):\n",
    "        context = self.retrieve(question).passages\n",
    "        print(f\"question: {question}, context: {context}\")\n",
    "        prediction = self.generate(context=context, question=question)\n",
    "        return prediction\n",
    "        # return dspy.Prediction(context=context, prediction=prediction)"
   ]
  },
  {
   "cell_type": "code",
   "execution_count": 13,
   "metadata": {},
   "outputs": [
    {
     "name": "stdout",
     "output_type": "stream",
     "text": [
      "Example({'question': 'What is the latest confirmed valuation of Stability AI. Include date, raised amount, the series name of the funding round and VCs', 'company': 'Stability AI', 'valuation': '$1B', 'date': 'September 2022', 'raised': '$101M', 'round': '', 'VCs': 'Coatue, Lightspeed Venture Partners'}) (input_keys={'question'})\n",
      "question: What is the latest confirmed valuation of Stability AI. Include date, raised amount, the series name of the funding round and VCs, context: ['With artificial intelligence booming, one key player in the fast-growing space is talking to investors about raising more money after just reaching unicorn status in a funding round late last year. The parent company of Stable Diffusion, an AI tool for making digital images, is seeking to raise money at a valuation of about $4 billion, according to people familiar with the matter, who asked to not be identified because it isn’t public. It isn’t clear how much capital Stability AI Ltd. is seeking to raise in the potential round.', 'The parent company of Stable Diffusion, an AI tool for making digital images, is seeking to raise money at a valuation of about $4 billion, according to people familiar with the matter, who asked to not be identified because it isn’t public. It isn’t clear how much capital Stability AI Ltd. is seeking to raise in the potential round. A final decision hasn’t been made on whether to go ahead with the financing and the valuation could still change, the people added.', 'It isn’t clear how much capital Stability AI Ltd. is seeking to raise in the potential round. A final decision hasn’t been made on whether to go ahead with the financing and the valuation could still change, the people added. London-based Stability, whose investors include Coatue Management and Lightspeed Venture Partners, last raised $101 million at a valuation of about $1 billion, Bloomberg News reported in October.', \"Stability AI's Stable Diffusion competes with OpenAI's Dall-E 2, another digital-image tool using artificial intelligence. Photo Illustration by Rafael Henrique/SOPA Images/LightRocket via Getty Images · With artificial intelligence booming, one key player in the fast-growing space is talking to investors about raising more money after just reaching unicorn status in a funding round late last year.\", \"A filing with the Securities and Exchange Commission on October 5 confirmed that at least $76.3 million was raised in the round, which lists Coatue partner Sri Viswanath. A spokesperson for Stable Diffusion says that the filing doesn't reflect the final size of the funding round. Sources familiar with the deal say that the round could ultimately be as much as $100 million.  · Founded in 2020, London-based Stability AI quickly became a household name in AI with the public release of Stable Diffusion in August 2022.\", \"Stable Diffusion text-to-image model creator Stability AI has closed a massive financing round. It's valued at $1 billion after raising as much as $100M from investors like Coatue and Lightspeed. Stable Diffusion is among a number of hyper-popular models like OpenAI's DALL-E 2. Stability AI, the creators of the hyper-popular text-to-image generator Stable Diffusion, has closed a new funding round that values the company at $1 billion, multiple sources familiar with the deal tell Insider.\", 'For the time being, however, Stability AI is a young startup with a yet-unproven business plan. The interest from top VCs like Coatue and Lightspeed, then, reflects a mad dash to break into the very young space of generative AI tools, even if it means investing at heightened valuations.', 'The interest from top VCs like Coatue and Lightspeed, then, reflects a mad dash to break into the very young space of generative AI tools, even if it means investing at heightened valuations.  · One complication in the conversations, however, centers around the cost of their operations and their cloud bills, which one source said exceeded $50 million. Training machine learning models can be both time-intensive and compute-intensive. Stability AI used a cluster of 4,000 Nvidia A100 GPUs running in AWS to train the model, according to an interview with TechCrunch.', \"Stability AI has raised $151M over 4 rounds. Stability AI's latest funding round was a Convertible Note for $50M on October 1, 2023. Stability AI's valuation in October 2022 was $899 - $1,000M.\", \"Stability AI's deal structure is available for 1 funding round, including their Seed VC from October 05, 2022. ... Stability AI has 9 investors. Intel invested in Stability AI's Convertible Note funding round.\", \"Stability AI has 9 investors. Intel invested in Stability AI's Convertible Note funding round. ... Stability AI acquired 1 company. Their latest acquisition was ClipDrop on March 07, 2023.\"]\n",
      "Prediction(\n",
      "    valuation=\"Stability AI's latest confirmed valuation is $4 billion.\",\n",
      "    date='October 5, 2023',\n",
      "    raised='At least $76.3 million, potentially up to $100 million',\n",
      "    round='Convertible Note\\n\\nVCs: Coatue Management, Lightspeed Venture Partners, Intel',\n",
      "    VCs='Coatue Management, Lightspeed Venture Partners, Intel'\n",
      ")\n"
     ]
    }
   ],
   "source": [
    "# test RAG\n",
    "\n",
    "rag_predictor = RAG()\n",
    "\n",
    "print(devset[0])\n",
    "result=rag_predictor(question=devset[0].question)\n",
    "print(result)"
   ]
  },
  {
   "cell_type": "code",
   "execution_count": 14,
   "metadata": {},
   "outputs": [
    {
     "name": "stderr",
     "output_type": "stream",
     "text": [
      "Average Metric: 0.0 / 1  (0.0):  20%|██        | 1/5 [00:00<00:01,  2.69it/s]"
     ]
    },
    {
     "name": "stdout",
     "output_type": "stream",
     "text": [
      "question: What is the latest confirmed valuation of Stability AI. Include date, raised amount, the series name of the funding round and VCs, context: ['With artificial intelligence booming, one key player in the fast-growing space is talking to investors about raising more money after just reaching unicorn status in a funding round late last year. The parent company of Stable Diffusion, an AI tool for making digital images, is seeking to raise money at a valuation of about $4 billion, according to people familiar with the matter, who asked to not be identified because it isn’t public. It isn’t clear how much capital Stability AI Ltd. is seeking to raise in the potential round.', 'The parent company of Stable Diffusion, an AI tool for making digital images, is seeking to raise money at a valuation of about $4 billion, according to people familiar with the matter, who asked to not be identified because it isn’t public. It isn’t clear how much capital Stability AI Ltd. is seeking to raise in the potential round. A final decision hasn’t been made on whether to go ahead with the financing and the valuation could still change, the people added.', 'It isn’t clear how much capital Stability AI Ltd. is seeking to raise in the potential round. A final decision hasn’t been made on whether to go ahead with the financing and the valuation could still change, the people added. London-based Stability, whose investors include Coatue Management and Lightspeed Venture Partners, last raised $101 million at a valuation of about $1 billion, Bloomberg News reported in October.', \"Stability AI's Stable Diffusion competes with OpenAI's Dall-E 2, another digital-image tool using artificial intelligence. Photo Illustration by Rafael Henrique/SOPA Images/LightRocket via Getty Images · With artificial intelligence booming, one key player in the fast-growing space is talking to investors about raising more money after just reaching unicorn status in a funding round late last year.\", \"A filing with the Securities and Exchange Commission on October 5 confirmed that at least $76.3 million was raised in the round, which lists Coatue partner Sri Viswanath. A spokesperson for Stable Diffusion says that the filing doesn't reflect the final size of the funding round. Sources familiar with the deal say that the round could ultimately be as much as $100 million.  · Founded in 2020, London-based Stability AI quickly became a household name in AI with the public release of Stable Diffusion in August 2022.\", \"Stable Diffusion text-to-image model creator Stability AI has closed a massive financing round. It's valued at $1 billion after raising as much as $100M from investors like Coatue and Lightspeed. Stable Diffusion is among a number of hyper-popular models like OpenAI's DALL-E 2. Stability AI, the creators of the hyper-popular text-to-image generator Stable Diffusion, has closed a new funding round that values the company at $1 billion, multiple sources familiar with the deal tell Insider.\", 'For the time being, however, Stability AI is a young startup with a yet-unproven business plan. The interest from top VCs like Coatue and Lightspeed, then, reflects a mad dash to break into the very young space of generative AI tools, even if it means investing at heightened valuations.', 'The interest from top VCs like Coatue and Lightspeed, then, reflects a mad dash to break into the very young space of generative AI tools, even if it means investing at heightened valuations.  · One complication in the conversations, however, centers around the cost of their operations and their cloud bills, which one source said exceeded $50 million. Training machine learning models can be both time-intensive and compute-intensive. Stability AI used a cluster of 4,000 Nvidia A100 GPUs running in AWS to train the model, according to an interview with TechCrunch.', \"Stability AI has raised $151M over 4 rounds. Stability AI's latest funding round was a Convertible Note for $50M on October 1, 2023. Stability AI's valuation in October 2022 was $899 - $1,000M.\", \"Stability AI's deal structure is available for 1 funding round, including their Seed VC from October 05, 2022. ... Stability AI has 9 investors. Intel invested in Stability AI's Convertible Note funding round.\", \"Stability AI has 9 investors. Intel invested in Stability AI's Convertible Note funding round. ... Stability AI acquired 1 company. Their latest acquisition was ClipDrop on March 07, 2023.\"]\n",
      "\n",
      "company: Stability AI: 0 0 0 0 0\n",
      "reference: Example({'question': 'What is the latest confirmed valuation of Stability AI. Include date, raised amount, the series name of the funding round and VCs', 'company': 'Stability AI', 'valuation': '$1B', 'date': 'September 2022', 'raised': '$101M', 'round': '', 'VCs': 'Coatue, Lightspeed Venture Partners'}) (input_keys={'question'})\n",
      "predicted: Prediction(\n",
      "    valuation=\"Stability AI's latest confirmed valuation is $4 billion.\",\n",
      "    date='October 5, 2023',\n",
      "    raised='At least $76.3 million, potentially up to $100 million',\n",
      "    round='Convertible Note\\n\\nVCs: Coatue Management, Lightspeed Venture Partners, Intel',\n",
      "    VCs='Coatue Management, Lightspeed Venture Partners, Intel'\n",
      ")\n"
     ]
    },
    {
     "name": "stderr",
     "output_type": "stream",
     "text": [
      "Average Metric: 0.6 / 2  (30.0):  40%|████      | 2/5 [00:01<00:02,  1.36it/s]"
     ]
    },
    {
     "name": "stdout",
     "output_type": "stream",
     "text": [
      "question: What is the latest confirmed valuation of Databricks. Include date, raised amount, the series name of the funding round and VCs, context: ['Series I round. ... ClearBridge Investments are the most recent investors. Databricks has a post-money valuation in the range of ... Sep 14, 2023, according to PrivCo. Sign up for a free trial to view exact valuation and search companies with similar valuations. ... Mar 19, 2024. ... Series I round.', \"Terms of Service | Privacy Policy | Sitemap | © 2024 Crunchbase Inc. All Rights Reserved. ... This profile is locked. If you'd like to suggest changes to this profile, please email us at support@crunchbase.com · Announced Date: Date that the Funding Round was publicly announced · Transaction Name: Auto-generated name of transaction (e.g. Angel - Uber) Number of Investors: Total number of Investors in a Funding Round · Money Raised: Amount of money raised in Funding Round\", 'Series I round. ... ClearBridge Investments are the most recent investors. Which investors participated in the most funding rounds? ... Sep 14, 2023, according to PrivCo. Sign up for a free trial to view exact valuation and search companies with similar valuations.', 'Which investors participated in the most funding rounds? ... Sep 14, 2023, according to PrivCo. Sign up for a free trial to view exact valuation and search companies with similar valuations. ... Mar 19, 2024. Which types of acquisition does this organization make most frequently? ... Terms of Service | Privacy Policy | Sitemap | © 2024 Crunchbase Inc.', 'Round led by T. Rowe Price, joined by new investors Capital One Ventures, Ontario Teachers’ Pension Plan and strategic investor NVIDIA · San Francisco, CA — September 14, 2023 – Databricks, the Data and AI company, today announced its Series I funding, raising over $500 million.', 'San Francisco, CA — September 14, 2023 – Databricks, the Data and AI company, today announced its Series I funding, raising over $500 million. This funding values the company at $43 billion and establishes the price per share at $73.50. The series is led by funds and accounts advised by T. Rowe Price Associates, Inc., which is joined by other existing investors, including Andreessen Horowitz, Baillie Gifford, ClearBridge Investments, funds and accounts managed by Counterpoint Global (Morgan Stanley), Fidelity Management & Research Company, Franklin Templeton, GIC, Octahedron Capital and Tiger Global along with new investors Capital One Ventures, Ghisallo Capital Management, Ontario Teachers’ Pension Plan and NVIDIA.', '[email protected] and provide the following information: Your name and title Company name and location Description of requestView brand guidelines', 'Data analytics and AI software maker Databricks has raised a Series I round worth more than $500 million, earning a valuation of $43 billion. This round sticks out, particularly as many late-stage startups are seeing their valuations being slashed amid a wider funding slowdown. Databricks last raised $1.6 billion in August of 2021 at a post-money valuation of $38 billion, and seeing the company add $5 billion to its price tag is proof that wider trends do not affect everyone equally, if they do at all.', 'This round sticks out, particularly as many late-stage startups are seeing their valuations being slashed amid a wider funding slowdown. Databricks last raised $1.6 billion in August of 2021 at a post-money valuation of $38 billion, and seeing the company add $5 billion to its price tag is proof that wider trends do not affect everyone equally, if they do at all. Databricks is proof that strong unicorns can grow their way out of a market correction · The list of investors that participated in this Series I makes it look like both a pre-IPO funding round and a strategic investment.', 'This round sticks out, particularly as many late-stage startups are seeing their valuations being slashed amid a wider funding slowdown. Databricks last raised $1.6 billion in August of 2021 at a post-money valuation of $38 billion, and seeing the company add $5 billion to its price tag is proof that wider trends do not affect everyone equally, if they do at all. Databricks is proof that strong unicorns can grow their way out of a market correction', 'The list of investors that participated in this Series I makes it look like both a pre-IPO funding round and a strategic investment. Capital from T. Rowe Price, Morgan Stanley, Fidelity and Franklin Templeton fills up the “pre-IPO” portion, as these investors often put money in companies that are expected to go public sooner than later. On the strategic side, we have Capital One Ventures and Nvidia. The Nvidia-Databricks connection is not hard to suss out — Databricks is leaning into its AI capabilities, built on its history of selling data and machine learning software.']\n",
      "\n",
      "company: Databricks: 1 0 1 1 0\n",
      "reference: Example({'question': 'What is the latest confirmed valuation of Databricks. Include date, raised amount, the series name of the funding round and VCs', 'company': 'Databricks', 'valuation': '$43B', 'date': 'September 2023', 'raised': '$500M', 'round': 'Series I', 'VCs': 'T. Rowe Price Associates'}) (input_keys={'question'})\n",
      "predicted: Prediction(\n",
      "    valuation='Databricks latest confirmed valuation is $43 billion, confirmed on September 14, 2023, after raising over $500 million in a Series I funding round. The round was led by T. Rowe Price and included new investors such as Capital One Ventures, Ontario Teachers’ Pension Plan, and NVIDIA.',\n",
      "    date='',\n",
      "    raised='September 14, 2023\\n\\nRaised: Over $500 million',\n",
      "    round='Series I\\n\\nVCs: T. Rowe Price, Capital One Ventures, Ontario Teachers’ Pension Plan, NVIDIA',\n",
      "    VCs='T. Rowe Price, Capital One Ventures, Ontario Teachers’ Pension Plan, NVIDIA'\n",
      ")\n"
     ]
    },
    {
     "name": "stderr",
     "output_type": "stream",
     "text": [
      "Average Metric: 1.2 / 3  (40.0):  60%|██████    | 3/5 [00:02<00:01,  1.22it/s]"
     ]
    },
    {
     "name": "stdout",
     "output_type": "stream",
     "text": [
      "question: What is the latest confirmed valuation of Hugging Face. Include date, raised amount, the series name of the funding round and VCs, context: ['AI startup Hugging Face has raised $235 million in a Series D funding round, as first reported by The Information, then seemingly verified by Salesforce CEO Marc Benioff on X (formerly known as Twitter). The tranche, which had participation from Google, Amazon, Nvidia, Intel, AMD, Qualcomm, IBM, Salesforce and Sound Ventures, values Hugging Face at $4.5 billion. That’s double the startup’s valuation from May 2022 and reportedly more than 100 times Hugging Face’s annualized revenue, reflecting the enormous appetite for AI and platforms to support its development.', 'Hugging Face has raised a total of $395.2 million to date, with its first ever check coming from Betaworks Ventures, placing it among the better-funded AI startups in the space. Those ahead of it are OpenAI ($11.3 billion), Anthropic ($1.6 billion), Inflection AI ($1.5 billion), Cohere ($435 million) and Adept ($415 million).', 'That’s double the startup’s valuation from May 2022 and reportedly more than 100 times Hugging Face’s annualized revenue, reflecting the enormous appetite for AI and platforms to support its development. Hugging Face offers a number of data science hosting and development tools, including a GitHub-like hub for AI code repositories, models and datasets, as well as web apps to demo AI-powered applications.', 'Hugging Face offers a number of data science hosting and development tools, including a GitHub-like hub for AI code repositories, models and datasets, as well as web apps to demo AI-powered applications. It also provides libraries for tasks like dataset processing and evaluating models in addition to an enterprise version of the hub that supports software-as-a-service and on-premises deployments.', \"Data-science startup Hugging Face has an enormous community, with users at Meta, Amazon, and Google. The company's valuation may be as high as $2 billion in a new funding round, sources tell Insider.\", \"The company's valuation may be as high as $2 billion in a new funding round, sources tell Insider. Machine-learning experts deploy Hugging Face models off the shelf for text analysis and other uses.\", \"The round stands to bring Hugging Face into a realm of emerging big data and machine-learning startups that have surged above the $1 billion-valuation milestone, including DataRobot, Dataiku, Dbt Labs, Collibra, and Alation.  ... The company was founded in 2016 and named for the emoji, and more than 5,000 companies use Hugging Face, including Meta's artificial-intelligence division, Amazon Web Services, Microsoft, and Google AI. Hugging Face also offers a similar tool to Streamlit — a machine-learning platform acquired by Snowflake for $800 million — called Gradio. Hugging Face raised $40 million last year with investors including Betaworks, Lux Capital, and the NBA star Kevin Durant.\", 'Hugging Face, a beloved platform in the machine-learning community that provides quick access to a wide variety of popular tools like language analysis, is quietly raising a new funding round that could value the startup as high as $2 billion, multiple people familiar with the deal told Insider.', \"Hugging Face has raised $398.92M over 10 rounds. Hugging Face's latest funding round was a Series D for $235M on August 23, 2023. Hugging Face's valuation in May 2022 was $2,000M.\", \"Hugging Face's deal structure is available for 2 funding rounds, including their Series D from August 23, 2023. ... Hugging Face has 41 investors. AMD Ventures invested in Hugging Face's Series D funding round.\", \"Hugging Face has 41 investors. AMD Ventures invested in Hugging Face's Series D funding round. ... Hugging Face acquired 2 companies. Their latest acquisition was Gradio on December 23, 2021.\"]\n",
      "\n",
      "company: Hugging Face: 1 0 1 1 0\n",
      "reference: Example({'question': 'What is the latest confirmed valuation of Hugging Face. Include date, raised amount, the series name of the funding round and VCs', 'company': 'Hugging Face', 'valuation': '$4.5B', 'date': 'August 2023', 'raised': '$235M', 'round': 'Series D', 'VCs': 'Salesforce Ventures'}) (input_keys={'question'})\n",
      "predicted: Prediction(\n",
      "    valuation=\"Hugging Face's latest confirmed valuation is $4.5 billion.\",\n",
      "    date='August 23, 2023',\n",
      "    raised='$235 million',\n",
      "    round='Series D\\n\\nVCs: Google, Amazon, Nvidia, Intel, AMD, Qualcomm, IBM, Salesforce, Sound Ventures',\n",
      "    VCs='Google, Amazon, Nvidia, Intel, AMD, Qualcomm, IBM, Salesforce, Sound Ventures'\n",
      ")\n"
     ]
    },
    {
     "name": "stderr",
     "output_type": "stream",
     "text": [
      "Average Metric: 1.6 / 4  (40.0):  80%|████████  | 4/5 [00:03<00:00,  1.06it/s]"
     ]
    },
    {
     "name": "stdout",
     "output_type": "stream",
     "text": [
      "question: What is the latest confirmed valuation of Cognition. Include date, raised amount, the series name of the funding round and VCs, context: ['Founders Fund is a venture capital firm that invests in companies building revolutionary technologies.', 'Type of Funding Round (e.g. Seed, Series A, Private Equity, Debt Financing)', 'The company, which is developing an AI tool for writing code, is in discussions with investors to raise money at a valuation of up to $2 billion, The Wall Street Journal (WSJ) reported Sunday (March 31). The report said that, if successful, the round would increase Cognition’s valuation to almost six times what it was weeks ago. Sources tell the news outlet that Silicon Valley venture firms including Founders Fund, already a shareholder, are in talks to invest in the round.', 'Cognition Labs is reportedly aiming to become the next multibillion-dollar artificial intelligence (AI) startup. The company, which is developing an AI tool for writing code, is in discussions with investors to raise money at a valuation of up to $2 billion, The Wall Street Journal (WSJ) reported Sunday (March 31). The report said that, if successful, the round would increase Cognition’s valuation to almost six times what it was weeks ago.', 'The round is happening as a number of other AI companies are seeking significant jumps in valuation. For example, this month saw reports that the Canadian AI startup Cohere was in advanced discussions to raise $500 million, bringing its valuation to $5 billion.', 'According to WSJ, Cognition began as a cryptocurrency company but pivoted to AI amid the technology’s rising popularity. Earlier this month, it debuted its AI coding tool, Devin, which can reportedly autonomously complete complex coding tasks like creating custom websites. The WSJ added that some investors believe Devin marks a significant leap in AI intelligence and could lead to the widespread automation of software development. The round is happening as a number of other AI companies are seeking significant jumps in valuation.', 'Those seeking evidence of this might cite news of Cognition Labs seeking a $2 billion valuation, as reported by the Wall Street Journal on Saturday. Founded in November, Cognition Labs makes Devin, which it launched this month and describes as the “first fully autonomous AI software engineer.” It’s generated no real revenue. Earlier this year, the startup raised $21 million in a deal valuing it at $350 million.', 'Earlier this year, the startup raised $21 million in a deal valuing it at $350 million. It then turned down offers valuing it at $1 billion. Now, according to the Journal, it’s in talks with investors for a deal that would value it at up to $2 billion. That’s a staggering figure for a new venture. Yet it’s not all that shocking in today’s AI space. Perplexity, an AI search startup challenging Google, secured funding a few weeks ago valuing it at $1 billion, up from $520 million a few months prior, with Amazon founder Jeff Bezos among the backers.', 'Perplexity, an AI search startup challenging Google, secured funding a few weeks ago valuing it at $1 billion, up from $520 million a few months prior, with Amazon founder Jeff Bezos among the backers. Mistral, a French AI startup founded just over a year ago, hit a $2 billion valuation in December.', 'The logo of AI startup Cognition Labs.']\n",
      "\n",
      "company: Cognition: 1 0 0 0 1\n",
      "reference: Example({'question': 'What is the latest confirmed valuation of Cognition. Include date, raised amount, the series name of the funding round and VCs', 'company': 'Cognition', 'valuation': '$2B', 'date': 'Aipril 2024', 'raised': '$175M', 'round': 'Series A', 'VCs': 'Founders Fund'}) (input_keys={'question'})\n",
      "predicted: Prediction(\n",
      "    valuation='$2 billion',\n",
      "    date='March 31',\n",
      "    raised='Not specified',\n",
      "    round='Not specified\\n\\nVCs: Founders Fund',\n",
      "    VCs='Founders Fund'\n",
      ")\n"
     ]
    },
    {
     "name": "stderr",
     "output_type": "stream",
     "text": [
      "Average Metric: 2.2 / 5  (44.0): 100%|██████████| 5/5 [00:04<00:00,  1.13it/s]"
     ]
    },
    {
     "name": "stdout",
     "output_type": "stream",
     "text": [
      "question: What is the latest confirmed valuation of Mistral AI. Include date, raised amount, the series name of the funding round and VCs, context: ['French startup Mistral AI has officially closed its much anticipated Series A funding round. The company has raised €385 million, or $415 million at today’s exchange rate — according to Bloomberg, it values the company at roughly $2 billion. Mistral AI is also opening up its commercial platform today.', 'As a reminder, Mistral AI raised a $112 million seed round less than six months ago to set up a European rival to OpenAI. Co-founded by Google’s DeepMind and Meta alums, Mistral AI is working on foundational models with an open technology angle. Andreessen Horowitz (a16z) is leading the most recent funding round, with Lightspeed Venture Partners investing once again in the AI company.', 'Andreessen Horowitz (a16z) is leading the most recent funding round, with Lightspeed Venture Partners investing once again in the AI company. That’s not all, as a long list of investors is also participating the round, such as Salesforce, BNP Paribas, CMA-CGM, General Catalyst, Elad Gil and Conviction. “Since the creation of Mistral AI in May, we have been pursuing a clear trajectory: that of creating a European champion with a global vocation in generative artificial intelligence, based on an open, responsible and decentralised approach to technology,” Mistral AI co-founder and CEO Arthur Mensch said in a statement.', 'Instead of opening access to the Mistral 7B model via APIs, the company made it available as a free download so developers could run it on their devices and servers. The model was released under the Apache 2.0 license, an open source license that has no restrictions on use or reproduction beyond attribution. While the model can be run by anyone, it was developed behind closed doors with a proprietary and undisclosed dataset. Mistral AI also played an important role in shaping the discussions around the EU’s AI Act.', 'Dec 11 (Reuters) - French artificial intelligence company Mistral AI said on Monday it had raised 385 million euros ($414.41 million) in its second funding round in seven months, led by investors such as Andreessen-Horowitz and LightSpeed Ventures. While the company did not disclose its valuation, a source familiar with the matter put it at 2 billion euros - an amount that would put the French startup among the top AI companies in the world. Paris-based Mistral AI, founded by former Meta (META.O), opens new tab and Google (GOOGL.O), opens new tab AI researchers, had in June raised 105 million euros just a month after being set up.', \"Paris-based Mistral AI, founded by former Meta (META.O), opens new tab and Google (GOOGL.O), opens new tab AI researchers, had in June raised 105 million euros just a month after being set up. The company also launched Mixtral 8x7B, an open model that seeks to be Europe's answer to AI platforms such as OpenAI's ChatGPT and Google's Bard. The Mistral AI platform is available in beta access and will be operational by early 2024.\", 'Starlink, the satellite arm of Elon Musk\\'s SpaceX, warned on Saturday of a \"degraded service\" as the Earth is battered by the biggest geomagnetic storm due to solar activity in two decades.', \"Mistral AI's largest funding round was a Series A round held on Dec 11, 2023 for $415M. Mistral AI' valuation is $2B as on Dec 05, 2023. Yes Mistral AI is a Unicorn, with a valuation of $2B. ... Venture CapitalsPrivate EquitiesAccelerators & IncubatorsInvestment BanksInnovation TeamsLarge Corporates - M&AJournalists & Media Houses ... Planet Mojo - Conway based, raised a funding in Seed round held on 05 Apr, 2024.\", 'Yes Mistral AI is a Unicorn, with a valuation of $2B. ... Venture CapitalsPrivate EquitiesAccelerators & IncubatorsInvestment BanksInnovation TeamsLarge Corporates - M&AJournalists & Media Houses ... Planet Mojo - Conway based, raised a funding in Seed round held on 05 Apr, 2024. Wandercraft - Paris based, raised a funding of $27.1M in Conventional Debt round held on 05 Apr, 2024. Rater8 - New York City based, raised a funding in Series A round held on 05 Apr, 2024.', 'Mistral AI raised an undisclosed amount in its latest funding round, which was Series A round held on Mar 14, 2024. Mistral AI has raised a total funding of $544M over 4 rounds.', \"Note: Investors shown in bold are lead investors in that roundView all funding details of Mistral AI · Get Mistral AI's Funding & Investors list, delivered to your inbox! ... Mistral AI has total 22 investors. 19 are institutional investors including Lightspeed Venture Partners and 18 others. 3 are Angel investors including Xavier Niel and 2 others. Databricks, made their first investment in Mistral AI on Mar 14, 2024 in its Series A round.\"]\n",
      "\n",
      "company: Mistral AI: 1 0 1 1 0\n",
      "reference: Example({'question': 'What is the latest confirmed valuation of Mistral AI. Include date, raised amount, the series name of the funding round and VCs', 'company': 'Mistral AI', 'valuation': '$2B', 'date': 'December 2023', 'raised': '$415M', 'round': 'Series A', 'VCs': 'Lightspeed Venture Partners, General Catalyst'}) (input_keys={'question'})\n",
      "predicted: Prediction(\n",
      "    valuation=\"Mistral AI's latest confirmed valuation is $2 billion as of December 11, 2023. The company raised $415 million in its Series A funding round, with Andreessen Horowitz (a16z) leading the round and Lightspeed Venture Partners also participating.\",\n",
      "    date='',\n",
      "    raised='December 11, 2023\\n\\nRaised: $415 million',\n",
      "    round='Series A\\n\\nVCs: Andreessen Horowitz (a16z) and Lightspeed Venture Partners',\n",
      "    VCs='Andreessen Horowitz (a16z) and Lightspeed Venture Partners'\n",
      ")\n",
      "Average Metric: 2.2 / 5  (44.0%)\n"
     ]
    },
    {
     "name": "stderr",
     "output_type": "stream",
     "text": [
      "\n"
     ]
    },
    {
     "data": {
      "text/plain": [
       "44.0"
      ]
     },
     "execution_count": 14,
     "metadata": {},
     "output_type": "execute_result"
    }
   ],
   "source": [
    "from dspy.evaluate import Evaluate\n",
    "\n",
    "# evaluate = Evaluate(devset=devset[:], metric=metric, num_threads=1, display_progress=True, display_table=False, display=True)\n",
    "evaluate(rag_predictor, devset=devset[:])"
   ]
  },
  {
   "cell_type": "code",
   "execution_count": 15,
   "metadata": {},
   "outputs": [
    {
     "name": "stderr",
     "output_type": "stream",
     "text": [
      " 20%|██        | 1/5 [00:00<00:02,  1.90it/s]"
     ]
    },
    {
     "name": "stdout",
     "output_type": "stream",
     "text": [
      "question: What is the latest confirmed valuation of Perplexity. Include date, raised amount, the series name of the funding round and VCs, context: ['Perplexity, the AI search engine startup, is a hot property at the moment. TechCrunch has learned that the company is currently raising at least $250 million more at a valuation of between $2.5 billion and $3 billion. The news comes on the heels of two other big fundraises that have seen the company’s valuation leapfrog in the last four months: In January, the company raised nearly $74 million at a valuation of $540 million (up from $121 million in April 2023).', 'And at the beginning of March, the company closed funding on a valuation of $1 billion, with CEO Aravind Srinivas clarifying on Twitter today that the amount raised was roughly $63 million. Those two reported rounds are not the full story. We understand from multiple sources close to the company that Perplexity is raising a further round of at least $250 million to capitalize on the attention it’s getting in the market.', 'One fundraise coming rapidly on the heels of another is reminiscent of rolling fundraising that we’ve seen from other big startups over the years. In the years leading up to its IPO during a time of rapid growth and major attention, Snap regularly appeared to be raising money on an ongoing basis. These days, it appears to be all about AI, with companies like OpenAI, Anthropic and Mistral all raising at a rapid pace and seeing their valuations skyrocket along with that. In the case of Perplexity, the startup is standing out in the market for a couple of reasons.', 'These days, it appears to be all about AI, with companies like OpenAI, Anthropic and Mistral all raising at a rapid pace and seeing their valuations skyrocket along with that. In the case of Perplexity, the startup is standing out in the market for a couple of reasons. Most obviously, it’s one of the ambitious, albeit smaller, hopefuls in the race to build generative AI services.', 'TechStartups - Startups and Technology news — AI search startup Perplexity raises new funding at $500 million valuation led by IVP ... SiliconANGLE — Report: Generative AI search startup Perplexity AI seeking millions in venture capital funding ... SINA — Conversational search engine company Perplexity AI raises $25.6 million in Series A funding', 'To support our rapid consumer adoption and expansion plans, we’ve raised $73.6 million in Series B funding from trusted VC firms and prominent tech visionaries. IVP led the round with continued support from our Seed and Series A investors NEA, Elad Gil, Nat Friedman, and Databricks, as well as new investors NVIDIA, Jeff Bezos (through Bezos Expeditions Fund), Tobi Lutke, Bessemer Venture Partners, Naval Ravikant, Balaji Srinivasan, Guillermo Rauch, Austen Allred, Factorial Funds, and Kindred Ventures, among others.', 'IVP led the round with continued support from our Seed and Series A investors NEA, Elad Gil, Nat Friedman, and Databricks, as well as new investors NVIDIA, Jeff Bezos (through Bezos Expeditions Fund), Tobi Lutke, Bessemer Venture Partners, Naval Ravikant, Balaji Srinivasan, Guillermo Rauch, Austen Allred, Factorial Funds, and Kindred Ventures, among others. Building upon our Series A from last year, we’ve now raised $100 million to date.', 'Building upon our Series A from last year, we’ve now raised $100 million to date. \"Perplexity is intensely building a product capable of bringing the power of AI to billions. The team possesses the unique ability to uphold a grand, long-term vision while shipping product relentlessly, requirements to tackle a problem as important and fundamental as search.” — Cack Wilhelm, General Partner, IVP, who led the round, and joins Perplexity’s Board of Directors.', \"Announcing Perplexity's Series B Funding Round\"]\n",
      "\n",
      "company: Perplexity: 0 0 0 0 0\n",
      "reference: Example({'question': 'What is the latest confirmed valuation of Perplexity. Include date, raised amount, the series name of the funding round and VCs', 'company': 'Perplexity', 'valuation': '$1B', 'date': 'April 2024', 'raised': '$62.7M', 'round': 'Series B1', 'VCs': 'Daniel Gross'}) (input_keys={'question'})\n",
      "predicted: Prediction(\n",
      "    valuation='$500M',\n",
      "    date='Not specified',\n",
      "    raised='$25.6M',\n",
      "    round='Series A\\nVCs: Not specified',\n",
      "    VCs='Not specified'\n",
      ")\n"
     ]
    },
    {
     "name": "stderr",
     "output_type": "stream",
     "text": [
      " 40%|████      | 2/5 [00:01<00:02,  1.33it/s]"
     ]
    },
    {
     "name": "stdout",
     "output_type": "stream",
     "text": [
      "question: What is the latest confirmed valuation of Cohere. Include date, raised amount, the series name of the funding round and VCs, context: [\"Cohere's largest funding round was a Series C round held on May 02, 2023 for $270M. Cohere' valuation is $2.1B as on Jun 09, 2023. Yes Cohere is a Unicorn, with a valuation of $2.1B. ... Venture CapitalsPrivate EquitiesAccelerators & IncubatorsInvestment BanksInnovation TeamsLarge Corporates - M&AJournalists & Media Houses ... Cureskin - Bengaluru based, raised a funding of $20M in Series B round held on 13 Mar, 2024.\", 'Cohere raised an undisclosed amount in its latest funding round, which was Series C round held on Jul 18, 2023. Cohere has raised a total funding of $435M over 4 rounds.', \"Sapphire Ventures is the lead investor in Cohere's latest funding round held on Jul 18, 2023. Cohere has total 21 investors. 17 are institutional investors including Oracle and 16 others. 4 are Angel investors including Pieter Abbeel and 3 others. Sapphire Ventures, located in Austin (United States), made their first investment in Cohere on Jul 18, 2023 in its Series C round.\", 'Sapphire Ventures, located in Austin (United States), made their first investment in Cohere on Jul 18, 2023 in its Series C round. Inovia Capital, located in Montreal (Canada), made their first investment in Cohere on May 02, 2023 in its Series C round.', 'Of course, the Cohere and Anthropic deals are not the only huge AI deals recently. In April, AlphaSense, an AI-enhanced market intelligence platform, raised $100 million from investors that included CapitalG — Alphabet’s independent growth fund. In March, Character.ai closed a $150 million Series A at a $1 billion valuation led by Andreessen Horowitz.', 'Toronto-based Cohere became the latest artificial intelligence startup to raise big money at an even bigger valuation. The startup raised a $270 million Series C led by Inovia Capital at a valuation of $2.2 billion. Other investors in the round include some big corporate names — Nvidia, Oracle, Salesforce Ventures1, DTCP and SentinelOne — as well as financial institutions and VC firms Mirae Asset, Schroders Capital, Thomvest Ventures and Index Ventures.', 'The startup raised a $270 million Series C led by Inovia Capital at a valuation of $2.2 billion. Other investors in the round include some big corporate names — Nvidia, Oracle, Salesforce Ventures1, DTCP and SentinelOne — as well as financial institutions and VC firms Mirae Asset, Schroders Capital, Thomvest Ventures and Index Ventures. Grow your revenue with all-in-one prospecting solutions powered by the leader in private-company data. ... Cohere builds large language models that allow AI to learn from new data, and can be customized and put into applications for features like interactive chat or to generate text.', 'The same can be said for Salesforce Ventures, which just last month participated in the $450 million Series C for Anthropic — a ChatGPT rival with its AI assistant Claude — which also included Google and Zoom Ventures. Of course, the Cohere and Anthropic deals are not the only huge AI deals recently. In April, AlphaSense, an AI-enhanced market intelligence platform, raised $100 million from investors that included CapitalG — Alphabet’s independent growth fund.', \"Computer Reseller News UK — Big vendors cash in on Cohere's AI platform as company announces $270m series C funding ... VentureBeat — Oracle founder Larry Ellison confirms new gen AI service with Cohere during earnings call\", 'Tech Funding News — AI investment boom: Canada’s ChatGPT rival Cohere gets $270M capital injection at $2.2B valuation', \"Business Insider — Oracle is betting its AI future on a company called Cohere. Here's why this little-known startup is becoming OpenAI's chief rival.\", 'VentureBeat — Cohere CEO and president discuss Nvidia and Oracle funding, Hinton comments and the future of LLMs']\n",
      "\n",
      "company: Cohere: 1 0 0 1 0\n",
      "reference: Example({'question': 'What is the latest confirmed valuation of Cohere. Include date, raised amount, the series name of the funding round and VCs', 'company': 'Cohere', 'valuation': '$2.2B', 'date': 'June 2023', 'raised': '$62.7M', 'round': 'Series C', 'VCs': 'Inovia Capital'}) (input_keys={'question'})\n",
      "predicted: Prediction(\n",
      "    valuation='$2.2B',\n",
      "    date='July 18, 2023',\n",
      "    raised='$270M',\n",
      "    round='Series C\\n\\nVCs: Inovia Capital, Nvidia, Oracle, Salesforce Ventures, DTCP, SentinelOne, Mirae Asset, Schroders Capital, Thomvest Ventures, Index Ventures',\n",
      "    VCs='Inovia Capital, Nvidia, Oracle, Salesforce Ventures, DTCP, SentinelOne, Mirae Asset, Schroders Capital, Thomvest Ventures, Index Ventures'\n",
      ")\n"
     ]
    },
    {
     "name": "stderr",
     "output_type": "stream",
     "text": [
      " 60%|██████    | 3/5 [00:02<00:01,  1.18it/s]"
     ]
    },
    {
     "name": "stdout",
     "output_type": "stream",
     "text": [
      "question: What is the latest confirmed valuation of Anthropic. Include date, raised amount, the series name of the funding round and VCs, context: ['Generative AI startup Anthropic is reportedly in talks to raise $750 million in fresh capital in a deal that would value it upwards of $18 billion. The San Francisco-based startup is in talks to raise funding in a Menlo Ventures-led deal, The Information first reported Wednesday, citing three sources familiar with the matter.', 'The funding would value Anthropic at $15 billion premoney, the publication reported — more than triple its valuation earlier this year — and more than $18 billion in the final deal. CNBC confirmed the funding talks Thursday, citing a person with direct knowledge of the matter. It said Anthropic’s new funding would come at a valuation of up to $18.4 billion.', 'The San Francisco-based startup is in talks to raise funding in a Menlo Ventures-led deal, The Information first reported Wednesday, citing three sources familiar with the matter. The funding would value Anthropic at $15 billion premoney, the publication reported — more than triple its valuation earlier this year — and more than $18 billion in the final deal.', 'It said Anthropic’s new funding would come at a valuation of up to $18.4 billion. While the deal would represent a huge valuation boost for Anthropic, the startup was previously aiming for a valuation of $20 billion to $30 billion, The Information reported earlier. Anthropic has around 300 employees and was aiming for $200 million in annualized recurring revenue as of October, the publication has reported. Anthropic has already raised $7.6 billion from investors including Google and Amazon, according to Crunchbase data.', 'The valuation is a significant drop, as the company was valued at $95 billion in March 2021, and earlier this year it was reported this round would be at a $60 billion valuation. The company said it would use the new cash to provide liquidity to current and former employees, and help offset a tax bill that will come due when it modifies employees’ stock grants that are set to expire (which we’ve talked about before). No lead investor was announced, but firms including Andreessen Horowitz, Founders Fund and General Catalyst participated. 3. Anthropic, $4B: San Francisco-based Anthropic raised nearly $7 billion in funding this year alone — so it was busy.', 'The immediate investment is $1.25 billion, with either party having the right to trigger another $2.75 billion in funding, Reuters reported. As part of the deal, Anthropic will now use Amazon Web Services data centers, as well as AWS Trainium and Inferentia chips to build, train and deploy its models. No valuation was given with the round.', 'As part of the deal, Anthropic will now use Amazon Web Services data centers, as well as AWS Trainium and Inferentia chips to build, train and deploy its models. No valuation was given with the round. The new investment is just the latest in what has become a fundraising spree for Anthropic this year.', 'The South San Francisco-based company raised a $6.5 billion Series I at a $50 billion valuation. The valuation is a significant drop, as the company was valued at $95 billion in March 2021, and earlier this year it was reported this round would be at a $60 billion valuation.', \"Anthropic, the OpenAI rival founded by ex-OpenAI employees, is in talks to raise a $750 million funding round led by Menlo Ventures, a person with direct knowledge of the matter told CNBC. The round would value Anthropic at up to $18.4 billion, per the source — nearly 4.5 times the startup's $4.1 billion valuation earlier this year.\", \"The round would value Anthropic at up to $18.4 billion, per the source — nearly 4.5 times the startup's $4.1 billion valuation earlier this year. Anthropic had already raised a combined $750 million from funding rounds in April and May, and in October, Google agreed to invest up to $2 billion in the startup over time.\", \"The round would value Anthropic at up to $18.4 billion, per the source — nearly 4.5 times the startup's $4.1 billion valuation earlier this year. News of the fundraise was previously reported by The Information. Anthropic declined to comment for this story. Founded in 2021 and funded by companies including Google, Salesforce and Zoom, Anthropic had already raised a combined $750 million from two funding rounds in April and May, one of which involved Google taking a 10% stake in the company.\", \"Founded in 2021 and funded by companies including Google, Salesforce and Zoom, Anthropic had already raised a combined $750 million from two funding rounds in April and May, one of which involved Google taking a 10% stake in the company. Anthropic's May fundraise marked, at the time, the largest artificial intelligence company funding round since Microsoft's investment in OpenAI in January, according to PitchBook data.\"]\n",
      "\n",
      "company: Anthropic: 1 0 1 0 0\n",
      "reference: Example({'question': 'What is the latest confirmed valuation of Anthropic. Include date, raised amount, the series name of the funding round and VCs', 'company': 'Anthropic', 'valuation': '$18.4B', 'date': 'December 2023', 'raised': '$750M', 'round': 'Series C', 'VCs': 'Menlo Ventures'}) (input_keys={'question'})\n",
      "predicted: Prediction(\n",
      "    valuation='$18.4B',\n",
      "    date='Not specified',\n",
      "    raised='$750M',\n",
      "    round='Not specified\\nVCs: Menlo Ventures, Google',\n",
      "    VCs='Menlo Ventures, Google'\n",
      ")\n",
      "question: What is the latest confirmed valuation of Groq. Include date, raised amount, the series name of the funding round and VCs, context: [\"Groq has raised $362.55M over 5 rounds. Groq's latest funding round was a Series C - II for $300M on April 14, 2021. Groq's valuation in October 2016 was $44.27M.\", \"Groq's deal structure is available for 3 funding rounds, including their Series C - II from April 14, 2021. ... Groq has 15 investors. TDK Ventures invested in Groq's Series C - II funding round.\", \"Groq has 15 investors. TDK Ventures invested in Groq's Series C - II funding round. ... Groq acquired 2 companies. Their latest acquisition was Definitive on March 01, 2024.\", \"TDK Ventures invested in Groq's Series C - II funding round. ... Groq acquired 2 companies. Their latest acquisition was Definitive on March 01, 2024. ... CB Insights puts confidence and clarity into your most strategic decisions. See how. Join a demo. ... Let's see how we can help you! ... Graphcore provides artificial intelligence (AI) systems and services for organizations to build, train, and deploy models in the cloud using infrastructure processing unit (IPU) hardware.\", 'To view Groq’s complete competitors history, request access »', 'To view Groq’s complete acquisitions history, request access »', 'Groq radically simplifies compute to accelerate workloads in artificial intelligence, machine learning, and high-performance computing. ... Mountain View, California, United States. ... D1 Capital Partners. ... Series C round.', 'Terms of Service | Privacy Policy | Sitemap | © 2024 Crunchbase Inc. All Rights Reserved. ... Generative AI is experimental. Information quality may vary. ... Descriptive keyword for an Organization (e.g. SaaS, Android, Cloud Computing, Medical Device) Where the organization is headquartered (e.g. San Francisco Bay Area, Silicon Valley) ... Operating Status of Organization e.g. Active, Closed · Last funding round type (e.g. Seed, Series A, Private Equity)', \"Groq may be growing as it has recently contracted with Samsung's Foundry business to manufacture its next-generation processor using advanced 4-nanometer technology, indicating an expansion of its operations and a commitment to advancing its product offerings.\", \"Additionally, the company has been recognized for achieving a new benchmark in large language model speed, which suggests improvements in its technology and potential market competitiveness. Furthermore, Groq's hardware and software ecosystem is designed to accelerate AI inference solutions, and its products are now available on the Nimbix Cloud, which may contribute to increased market presence and customer accessibility.\"]\n"
     ]
    },
    {
     "name": "stderr",
     "output_type": "stream",
     "text": [
      " 80%|████████  | 4/5 [00:06<00:02,  2.11s/it]"
     ]
    },
    {
     "name": "stdout",
     "output_type": "stream",
     "text": [
      "\n",
      "company: Groq: 0 0 0 0 0\n",
      "reference: Example({'question': 'What is the latest confirmed valuation of Groq. Include date, raised amount, the series name of the funding round and VCs', 'company': 'Groq', 'valuation': '$1B', 'date': 'February 2024', 'raised': '$149.9M', 'round': 'Series C', 'VCs': 'Tiger Global, D1 Capital'}) (input_keys={'question'})\n",
      "predicted: Prediction(\n",
      "    valuation='$300M',\n",
      "    date='April 14, 2021',\n",
      "    raised='$300M',\n",
      "    round='Series C - II\\n\\nVCs: TDK Ventures',\n",
      "    VCs='TDK Ventures'\n",
      ")\n"
     ]
    },
    {
     "name": "stderr",
     "output_type": "stream",
     "text": [
      "100%|██████████| 5/5 [00:07<00:00,  1.47s/it]"
     ]
    },
    {
     "name": "stdout",
     "output_type": "stream",
     "text": [
      "question: What is the latest confirmed valuation of Weaviate. Include date, raised amount, the series name of the funding round and VCs, context: ['PR Newswire — Weaviate Raises $50 Million Series B Funding to Meet Soaring Demand for AI Native Vector Database Technology ... Venture Capital Firms — Weaviate Raises $50 Million Series B Funding to Meet Soaring Demand for AI Native Vector Database Technology', 'investorsobserver.com — Weaviate Raises $50 Million Series B Funding to Meet Soaring Demand for AI Native Vector Database Technology ... PR Newswire — Weaviate Raises $50 Million Series B Funding to Meet Soaring Demand for AI Native Vector Database Technology', 'Silicon Canals — Amsterdam’s Weaviate.io secures €45.6M for its open-source vector database Weaviate', 'Terms of Service | Privacy Policy | Sitemap | © 2024 Crunchbase Inc. All Rights Reserved. ... Transaction Name: Auto-generated name of transaction (e.g. Angel - Uber) Number of Investors: Total number of Investors in a Funding Round · Money Raised: Amount of money raised in Funding Round', 'Weaviate develops an open-source vector database.', 'Series B round. ... Battery Ventures are the most recent investors. ... Series B round.', 'Which investors participated in the most funding rounds? ... Terms of Service | Privacy Policy | Sitemap | © 2024 Crunchbase Inc. All Rights Reserved.', 'Weaviate raised $50M in its latest funding round, which was Series B round held on Apr 20, 2023. Weaviate has raised a total funding of $50M over 2 rounds.', \"Index Ventures is the lead investor in Weaviate's latest funding round held on Apr 20, 2023. Weaviate has total 6 investors. 6 are institutional investors including Index Ventures and 5 others. Index Ventures, made their first investment in Weaviate on Apr 20, 2023 in its Series B round.\", 'Index Ventures, made their first investment in Weaviate on Apr 20, 2023 in its Series B round. Battery Ventures, made their first investment in Weaviate on Apr 20, 2023 in its Series B round.View all Weaviate Investors', \"Weaviate's largest funding round was a Series B round held on Apr 20, 2023 for $50M.\"]\n",
      "\n",
      "company: Weaviate: 0 1 1 1 0\n",
      "reference: Example({'question': 'What is the latest confirmed valuation of Weaviate. Include date, raised amount, the series name of the funding round and VCs', 'company': 'Weaviate', 'valuation': '$200M', 'date': 'April 2023', 'raised': '$50M', 'round': 'Series B', 'VCs': 'Index Ventures'}) (input_keys={'question'})\n",
      "predicted: Prediction(\n",
      "    valuation='$50M',\n",
      "    date='April 20, 2023',\n",
      "    raised='$50M',\n",
      "    round='Series B\\n\\nVCs: Battery Ventures, Index Ventures',\n",
      "    VCs='Battery Ventures, Index Ventures'\n",
      ")\n",
      "Bootstrapped 3 full traces after 5 examples in round 0.\n"
     ]
    },
    {
     "name": "stderr",
     "output_type": "stream",
     "text": [
      "\n"
     ]
    }
   ],
   "source": [
    "# compile\n",
    "\n",
    "from dspy.teleprompt import BootstrapFewShotWithRandomSearch, BootstrapFewShot\n",
    "\n",
    "# teleprompter = BootstrapFewShotWithRandomSearch(\n",
    "teleprompter = BootstrapFewShot(\n",
    "    metric=metric,\n",
    "    # num_threads=2,\n",
    "    # num_candidate_programs=3,\n",
    "    # max_labeled_demos=3,\n",
    ")\n",
    "\n",
    "compiled_rag_predictor = teleprompter.compile(\n",
    "    rag_predictor,\n",
    "    trainset=trainset,\n",
    ")"
   ]
  },
  {
   "cell_type": "code",
   "execution_count": 16,
   "metadata": {},
   "outputs": [
    {
     "name": "stderr",
     "output_type": "stream",
     "text": [
      "Average Metric: 0.6 / 1  (60.0):  20%|██        | 1/5 [00:00<00:01,  2.52it/s]"
     ]
    },
    {
     "name": "stdout",
     "output_type": "stream",
     "text": [
      "question: What is the latest confirmed valuation of Stability AI. Include date, raised amount, the series name of the funding round and VCs, context: ['With artificial intelligence booming, one key player in the fast-growing space is talking to investors about raising more money after just reaching unicorn status in a funding round late last year. The parent company of Stable Diffusion, an AI tool for making digital images, is seeking to raise money at a valuation of about $4 billion, according to people familiar with the matter, who asked to not be identified because it isn’t public. It isn’t clear how much capital Stability AI Ltd. is seeking to raise in the potential round.', 'The parent company of Stable Diffusion, an AI tool for making digital images, is seeking to raise money at a valuation of about $4 billion, according to people familiar with the matter, who asked to not be identified because it isn’t public. It isn’t clear how much capital Stability AI Ltd. is seeking to raise in the potential round. A final decision hasn’t been made on whether to go ahead with the financing and the valuation could still change, the people added.', 'It isn’t clear how much capital Stability AI Ltd. is seeking to raise in the potential round. A final decision hasn’t been made on whether to go ahead with the financing and the valuation could still change, the people added. London-based Stability, whose investors include Coatue Management and Lightspeed Venture Partners, last raised $101 million at a valuation of about $1 billion, Bloomberg News reported in October.', \"Stability AI's Stable Diffusion competes with OpenAI's Dall-E 2, another digital-image tool using artificial intelligence. Photo Illustration by Rafael Henrique/SOPA Images/LightRocket via Getty Images · With artificial intelligence booming, one key player in the fast-growing space is talking to investors about raising more money after just reaching unicorn status in a funding round late last year.\", \"A filing with the Securities and Exchange Commission on October 5 confirmed that at least $76.3 million was raised in the round, which lists Coatue partner Sri Viswanath. A spokesperson for Stable Diffusion says that the filing doesn't reflect the final size of the funding round. Sources familiar with the deal say that the round could ultimately be as much as $100 million.  · Founded in 2020, London-based Stability AI quickly became a household name in AI with the public release of Stable Diffusion in August 2022.\", \"Stable Diffusion text-to-image model creator Stability AI has closed a massive financing round. It's valued at $1 billion after raising as much as $100M from investors like Coatue and Lightspeed. Stable Diffusion is among a number of hyper-popular models like OpenAI's DALL-E 2. Stability AI, the creators of the hyper-popular text-to-image generator Stable Diffusion, has closed a new funding round that values the company at $1 billion, multiple sources familiar with the deal tell Insider.\", 'For the time being, however, Stability AI is a young startup with a yet-unproven business plan. The interest from top VCs like Coatue and Lightspeed, then, reflects a mad dash to break into the very young space of generative AI tools, even if it means investing at heightened valuations.', 'The interest from top VCs like Coatue and Lightspeed, then, reflects a mad dash to break into the very young space of generative AI tools, even if it means investing at heightened valuations.  · One complication in the conversations, however, centers around the cost of their operations and their cloud bills, which one source said exceeded $50 million. Training machine learning models can be both time-intensive and compute-intensive. Stability AI used a cluster of 4,000 Nvidia A100 GPUs running in AWS to train the model, according to an interview with TechCrunch.', \"Stability AI has raised $151M over 4 rounds. Stability AI's latest funding round was a Convertible Note for $50M on October 1, 2023. Stability AI's valuation in October 2022 was $899 - $1,000M.\", \"Stability AI's deal structure is available for 1 funding round, including their Seed VC from October 05, 2022. ... Stability AI has 9 investors. Intel invested in Stability AI's Convertible Note funding round.\", \"Stability AI has 9 investors. Intel invested in Stability AI's Convertible Note funding round. ... Stability AI acquired 1 company. Their latest acquisition was ClipDrop on March 07, 2023.\"]\n",
      "\n",
      "company: Stability AI: 1 0 1 0 1\n",
      "reference: Example({'question': 'What is the latest confirmed valuation of Stability AI. Include date, raised amount, the series name of the funding round and VCs', 'company': 'Stability AI', 'valuation': '$1B', 'date': 'September 2022', 'raised': '$101M', 'round': '', 'VCs': 'Coatue, Lightspeed Venture Partners'}) (input_keys={'question'})\n",
      "predicted: Prediction(\n",
      "    valuation='$1B',\n",
      "    date='Not specified',\n",
      "    raised='$100M',\n",
      "    round='Not specified\\n\\nVCs: Coatue Management, Lightspeed Venture Partners',\n",
      "    VCs='Coatue Management, Lightspeed Venture Partners'\n",
      ")\n"
     ]
    },
    {
     "name": "stderr",
     "output_type": "stream",
     "text": [
      "Average Metric: 1.0 / 2  (50.0):  40%|████      | 2/5 [00:00<00:01,  2.49it/s]"
     ]
    },
    {
     "name": "stdout",
     "output_type": "stream",
     "text": [
      "question: What is the latest confirmed valuation of Databricks. Include date, raised amount, the series name of the funding round and VCs, context: ['Series I round. ... ClearBridge Investments are the most recent investors. Databricks has a post-money valuation in the range of ... Sep 14, 2023, according to PrivCo. Sign up for a free trial to view exact valuation and search companies with similar valuations. ... Mar 19, 2024. ... Series I round.', \"Terms of Service | Privacy Policy | Sitemap | © 2024 Crunchbase Inc. All Rights Reserved. ... This profile is locked. If you'd like to suggest changes to this profile, please email us at support@crunchbase.com · Announced Date: Date that the Funding Round was publicly announced · Transaction Name: Auto-generated name of transaction (e.g. Angel - Uber) Number of Investors: Total number of Investors in a Funding Round · Money Raised: Amount of money raised in Funding Round\", 'Series I round. ... ClearBridge Investments are the most recent investors. Which investors participated in the most funding rounds? ... Sep 14, 2023, according to PrivCo. Sign up for a free trial to view exact valuation and search companies with similar valuations.', 'Which investors participated in the most funding rounds? ... Sep 14, 2023, according to PrivCo. Sign up for a free trial to view exact valuation and search companies with similar valuations. ... Mar 19, 2024. Which types of acquisition does this organization make most frequently? ... Terms of Service | Privacy Policy | Sitemap | © 2024 Crunchbase Inc.', 'Round led by T. Rowe Price, joined by new investors Capital One Ventures, Ontario Teachers’ Pension Plan and strategic investor NVIDIA · San Francisco, CA — September 14, 2023 – Databricks, the Data and AI company, today announced its Series I funding, raising over $500 million.', 'San Francisco, CA — September 14, 2023 – Databricks, the Data and AI company, today announced its Series I funding, raising over $500 million. This funding values the company at $43 billion and establishes the price per share at $73.50. The series is led by funds and accounts advised by T. Rowe Price Associates, Inc., which is joined by other existing investors, including Andreessen Horowitz, Baillie Gifford, ClearBridge Investments, funds and accounts managed by Counterpoint Global (Morgan Stanley), Fidelity Management & Research Company, Franklin Templeton, GIC, Octahedron Capital and Tiger Global along with new investors Capital One Ventures, Ghisallo Capital Management, Ontario Teachers’ Pension Plan and NVIDIA.', '[email protected] and provide the following information: Your name and title Company name and location Description of requestView brand guidelines', 'Data analytics and AI software maker Databricks has raised a Series I round worth more than $500 million, earning a valuation of $43 billion. This round sticks out, particularly as many late-stage startups are seeing their valuations being slashed amid a wider funding slowdown. Databricks last raised $1.6 billion in August of 2021 at a post-money valuation of $38 billion, and seeing the company add $5 billion to its price tag is proof that wider trends do not affect everyone equally, if they do at all.', 'This round sticks out, particularly as many late-stage startups are seeing their valuations being slashed amid a wider funding slowdown. Databricks last raised $1.6 billion in August of 2021 at a post-money valuation of $38 billion, and seeing the company add $5 billion to its price tag is proof that wider trends do not affect everyone equally, if they do at all. Databricks is proof that strong unicorns can grow their way out of a market correction · The list of investors that participated in this Series I makes it look like both a pre-IPO funding round and a strategic investment.', 'This round sticks out, particularly as many late-stage startups are seeing their valuations being slashed amid a wider funding slowdown. Databricks last raised $1.6 billion in August of 2021 at a post-money valuation of $38 billion, and seeing the company add $5 billion to its price tag is proof that wider trends do not affect everyone equally, if they do at all. Databricks is proof that strong unicorns can grow their way out of a market correction', 'The list of investors that participated in this Series I makes it look like both a pre-IPO funding round and a strategic investment. Capital from T. Rowe Price, Morgan Stanley, Fidelity and Franklin Templeton fills up the “pre-IPO” portion, as these investors often put money in companies that are expected to go public sooner than later. On the strategic side, we have Capital One Ventures and Nvidia. The Nvidia-Databricks connection is not hard to suss out — Databricks is leaning into its AI capabilities, built on its history of selling data and machine learning software.']\n",
      "\n",
      "company: Databricks: 1 0 0 1 0\n",
      "reference: Example({'question': 'What is the latest confirmed valuation of Databricks. Include date, raised amount, the series name of the funding round and VCs', 'company': 'Databricks', 'valuation': '$43B', 'date': 'September 2023', 'raised': '$500M', 'round': 'Series I', 'VCs': 'T. Rowe Price Associates'}) (input_keys={'question'})\n",
      "predicted: Prediction(\n",
      "    valuation='$43B',\n",
      "    date='September 14, 2023',\n",
      "    raised='Over $500M',\n",
      "    round='Series I\\n\\nVCs: T. Rowe Price, Capital One Ventures, Ontario Teachers’ Pension Plan, NVIDIA, Andreessen Horowitz, Baillie Gifford, ClearBridge Investments, Counterpoint Global (Morgan Stanley), Fidelity Management & Research Company, Franklin Templeton, GIC, Octahedron Capital, Tiger Global',\n",
      "    VCs='T. Rowe Price, Capital One Ventures, Ontario Teachers’ Pension Plan, NVIDIA, Andreessen Horowitz, Baillie Gifford, ClearBridge Investments, Counterpoint Global (Morgan Stanley), Fidelity Management & Research Company, Franklin Templeton, GIC, Octahedron Capital, Tiger Global'\n",
      ")\n"
     ]
    },
    {
     "name": "stderr",
     "output_type": "stream",
     "text": [
      "Average Metric: 1.6 / 3  (53.3):  60%|██████    | 3/5 [00:01<00:00,  2.65it/s]"
     ]
    },
    {
     "name": "stdout",
     "output_type": "stream",
     "text": [
      "question: What is the latest confirmed valuation of Hugging Face. Include date, raised amount, the series name of the funding round and VCs, context: ['AI startup Hugging Face has raised $235 million in a Series D funding round, as first reported by The Information, then seemingly verified by Salesforce CEO Marc Benioff on X (formerly known as Twitter). The tranche, which had participation from Google, Amazon, Nvidia, Intel, AMD, Qualcomm, IBM, Salesforce and Sound Ventures, values Hugging Face at $4.5 billion. That’s double the startup’s valuation from May 2022 and reportedly more than 100 times Hugging Face’s annualized revenue, reflecting the enormous appetite for AI and platforms to support its development.', 'Hugging Face has raised a total of $395.2 million to date, with its first ever check coming from Betaworks Ventures, placing it among the better-funded AI startups in the space. Those ahead of it are OpenAI ($11.3 billion), Anthropic ($1.6 billion), Inflection AI ($1.5 billion), Cohere ($435 million) and Adept ($415 million).', 'That’s double the startup’s valuation from May 2022 and reportedly more than 100 times Hugging Face’s annualized revenue, reflecting the enormous appetite for AI and platforms to support its development. Hugging Face offers a number of data science hosting and development tools, including a GitHub-like hub for AI code repositories, models and datasets, as well as web apps to demo AI-powered applications.', 'Hugging Face offers a number of data science hosting and development tools, including a GitHub-like hub for AI code repositories, models and datasets, as well as web apps to demo AI-powered applications. It also provides libraries for tasks like dataset processing and evaluating models in addition to an enterprise version of the hub that supports software-as-a-service and on-premises deployments.', \"Data-science startup Hugging Face has an enormous community, with users at Meta, Amazon, and Google. The company's valuation may be as high as $2 billion in a new funding round, sources tell Insider.\", \"The company's valuation may be as high as $2 billion in a new funding round, sources tell Insider. Machine-learning experts deploy Hugging Face models off the shelf for text analysis and other uses.\", \"The round stands to bring Hugging Face into a realm of emerging big data and machine-learning startups that have surged above the $1 billion-valuation milestone, including DataRobot, Dataiku, Dbt Labs, Collibra, and Alation.  ... The company was founded in 2016 and named for the emoji, and more than 5,000 companies use Hugging Face, including Meta's artificial-intelligence division, Amazon Web Services, Microsoft, and Google AI. Hugging Face also offers a similar tool to Streamlit — a machine-learning platform acquired by Snowflake for $800 million — called Gradio. Hugging Face raised $40 million last year with investors including Betaworks, Lux Capital, and the NBA star Kevin Durant.\", 'Hugging Face, a beloved platform in the machine-learning community that provides quick access to a wide variety of popular tools like language analysis, is quietly raising a new funding round that could value the startup as high as $2 billion, multiple people familiar with the deal told Insider.', \"Hugging Face has raised $398.92M over 10 rounds. Hugging Face's latest funding round was a Series D for $235M on August 23, 2023. Hugging Face's valuation in May 2022 was $2,000M.\", \"Hugging Face's deal structure is available for 2 funding rounds, including their Series D from August 23, 2023. ... Hugging Face has 41 investors. AMD Ventures invested in Hugging Face's Series D funding round.\", \"Hugging Face has 41 investors. AMD Ventures invested in Hugging Face's Series D funding round. ... Hugging Face acquired 2 companies. Their latest acquisition was Gradio on December 23, 2021.\"]\n",
      "\n",
      "company: Hugging Face: 1 0 1 1 0\n",
      "reference: Example({'question': 'What is the latest confirmed valuation of Hugging Face. Include date, raised amount, the series name of the funding round and VCs', 'company': 'Hugging Face', 'valuation': '$4.5B', 'date': 'August 2023', 'raised': '$235M', 'round': 'Series D', 'VCs': 'Salesforce Ventures'}) (input_keys={'question'})\n",
      "predicted: Prediction(\n",
      "    valuation='$4.5B',\n",
      "    date='Not specified',\n",
      "    raised='$235M',\n",
      "    round='Series D\\n\\nVCs: Google, Amazon, Nvidia, Intel, AMD, Qualcomm, IBM, Salesforce, Sound Ventures',\n",
      "    VCs='Google, Amazon, Nvidia, Intel, AMD, Qualcomm, IBM, Salesforce, Sound Ventures'\n",
      ")\n"
     ]
    },
    {
     "name": "stderr",
     "output_type": "stream",
     "text": [
      "Average Metric: 2.0 / 4  (50.0):  80%|████████  | 4/5 [00:01<00:00,  2.64it/s]"
     ]
    },
    {
     "name": "stdout",
     "output_type": "stream",
     "text": [
      "question: What is the latest confirmed valuation of Cognition. Include date, raised amount, the series name of the funding round and VCs, context: ['Founders Fund is a venture capital firm that invests in companies building revolutionary technologies.', 'Type of Funding Round (e.g. Seed, Series A, Private Equity, Debt Financing)', 'The company, which is developing an AI tool for writing code, is in discussions with investors to raise money at a valuation of up to $2 billion, The Wall Street Journal (WSJ) reported Sunday (March 31). The report said that, if successful, the round would increase Cognition’s valuation to almost six times what it was weeks ago. Sources tell the news outlet that Silicon Valley venture firms including Founders Fund, already a shareholder, are in talks to invest in the round.', 'Cognition Labs is reportedly aiming to become the next multibillion-dollar artificial intelligence (AI) startup. The company, which is developing an AI tool for writing code, is in discussions with investors to raise money at a valuation of up to $2 billion, The Wall Street Journal (WSJ) reported Sunday (March 31). The report said that, if successful, the round would increase Cognition’s valuation to almost six times what it was weeks ago.', 'The round is happening as a number of other AI companies are seeking significant jumps in valuation. For example, this month saw reports that the Canadian AI startup Cohere was in advanced discussions to raise $500 million, bringing its valuation to $5 billion.', 'According to WSJ, Cognition began as a cryptocurrency company but pivoted to AI amid the technology’s rising popularity. Earlier this month, it debuted its AI coding tool, Devin, which can reportedly autonomously complete complex coding tasks like creating custom websites. The WSJ added that some investors believe Devin marks a significant leap in AI intelligence and could lead to the widespread automation of software development. The round is happening as a number of other AI companies are seeking significant jumps in valuation.', 'Those seeking evidence of this might cite news of Cognition Labs seeking a $2 billion valuation, as reported by the Wall Street Journal on Saturday. Founded in November, Cognition Labs makes Devin, which it launched this month and describes as the “first fully autonomous AI software engineer.” It’s generated no real revenue. Earlier this year, the startup raised $21 million in a deal valuing it at $350 million.', 'Earlier this year, the startup raised $21 million in a deal valuing it at $350 million. It then turned down offers valuing it at $1 billion. Now, according to the Journal, it’s in talks with investors for a deal that would value it at up to $2 billion. That’s a staggering figure for a new venture. Yet it’s not all that shocking in today’s AI space. Perplexity, an AI search startup challenging Google, secured funding a few weeks ago valuing it at $1 billion, up from $520 million a few months prior, with Amazon founder Jeff Bezos among the backers.', 'Perplexity, an AI search startup challenging Google, secured funding a few weeks ago valuing it at $1 billion, up from $520 million a few months prior, with Amazon founder Jeff Bezos among the backers. Mistral, a French AI startup founded just over a year ago, hit a $2 billion valuation in December.', 'The logo of AI startup Cognition Labs.']\n",
      "\n",
      "company: Cognition: 1 0 0 0 1\n",
      "reference: Example({'question': 'What is the latest confirmed valuation of Cognition. Include date, raised amount, the series name of the funding round and VCs', 'company': 'Cognition', 'valuation': '$2B', 'date': 'Aipril 2024', 'raised': '$175M', 'round': 'Series A', 'VCs': 'Founders Fund'}) (input_keys={'question'})\n",
      "predicted: Prediction(\n",
      "    valuation='$2B',\n",
      "    date='Not specified',\n",
      "    raised='Not specified',\n",
      "    round='Not specified\\n\\nVCs: Founders Fund, Silicon Valley venture firms',\n",
      "    VCs='Founders Fund, Silicon Valley venture firms'\n",
      ")\n"
     ]
    },
    {
     "name": "stderr",
     "output_type": "stream",
     "text": [
      "Average Metric: 2.6 / 5  (52.0): 100%|██████████| 5/5 [00:01<00:00,  2.61it/s]"
     ]
    },
    {
     "name": "stdout",
     "output_type": "stream",
     "text": [
      "question: What is the latest confirmed valuation of Mistral AI. Include date, raised amount, the series name of the funding round and VCs, context: ['French startup Mistral AI has officially closed its much anticipated Series A funding round. The company has raised €385 million, or $415 million at today’s exchange rate — according to Bloomberg, it values the company at roughly $2 billion. Mistral AI is also opening up its commercial platform today.', 'As a reminder, Mistral AI raised a $112 million seed round less than six months ago to set up a European rival to OpenAI. Co-founded by Google’s DeepMind and Meta alums, Mistral AI is working on foundational models with an open technology angle. Andreessen Horowitz (a16z) is leading the most recent funding round, with Lightspeed Venture Partners investing once again in the AI company.', 'Andreessen Horowitz (a16z) is leading the most recent funding round, with Lightspeed Venture Partners investing once again in the AI company. That’s not all, as a long list of investors is also participating the round, such as Salesforce, BNP Paribas, CMA-CGM, General Catalyst, Elad Gil and Conviction. “Since the creation of Mistral AI in May, we have been pursuing a clear trajectory: that of creating a European champion with a global vocation in generative artificial intelligence, based on an open, responsible and decentralised approach to technology,” Mistral AI co-founder and CEO Arthur Mensch said in a statement.', 'Instead of opening access to the Mistral 7B model via APIs, the company made it available as a free download so developers could run it on their devices and servers. The model was released under the Apache 2.0 license, an open source license that has no restrictions on use or reproduction beyond attribution. While the model can be run by anyone, it was developed behind closed doors with a proprietary and undisclosed dataset. Mistral AI also played an important role in shaping the discussions around the EU’s AI Act.', 'Dec 11 (Reuters) - French artificial intelligence company Mistral AI said on Monday it had raised 385 million euros ($414.41 million) in its second funding round in seven months, led by investors such as Andreessen-Horowitz and LightSpeed Ventures. While the company did not disclose its valuation, a source familiar with the matter put it at 2 billion euros - an amount that would put the French startup among the top AI companies in the world. Paris-based Mistral AI, founded by former Meta (META.O), opens new tab and Google (GOOGL.O), opens new tab AI researchers, had in June raised 105 million euros just a month after being set up.', \"Paris-based Mistral AI, founded by former Meta (META.O), opens new tab and Google (GOOGL.O), opens new tab AI researchers, had in June raised 105 million euros just a month after being set up. The company also launched Mixtral 8x7B, an open model that seeks to be Europe's answer to AI platforms such as OpenAI's ChatGPT and Google's Bard. The Mistral AI platform is available in beta access and will be operational by early 2024.\", 'Starlink, the satellite arm of Elon Musk\\'s SpaceX, warned on Saturday of a \"degraded service\" as the Earth is battered by the biggest geomagnetic storm due to solar activity in two decades.', \"Mistral AI's largest funding round was a Series A round held on Dec 11, 2023 for $415M. Mistral AI' valuation is $2B as on Dec 05, 2023. Yes Mistral AI is a Unicorn, with a valuation of $2B. ... Venture CapitalsPrivate EquitiesAccelerators & IncubatorsInvestment BanksInnovation TeamsLarge Corporates - M&AJournalists & Media Houses ... Planet Mojo - Conway based, raised a funding in Seed round held on 05 Apr, 2024.\", 'Yes Mistral AI is a Unicorn, with a valuation of $2B. ... Venture CapitalsPrivate EquitiesAccelerators & IncubatorsInvestment BanksInnovation TeamsLarge Corporates - M&AJournalists & Media Houses ... Planet Mojo - Conway based, raised a funding in Seed round held on 05 Apr, 2024. Wandercraft - Paris based, raised a funding of $27.1M in Conventional Debt round held on 05 Apr, 2024. Rater8 - New York City based, raised a funding in Series A round held on 05 Apr, 2024.', 'Mistral AI raised an undisclosed amount in its latest funding round, which was Series A round held on Mar 14, 2024. Mistral AI has raised a total funding of $544M over 4 rounds.', \"Note: Investors shown in bold are lead investors in that roundView all funding details of Mistral AI · Get Mistral AI's Funding & Investors list, delivered to your inbox! ... Mistral AI has total 22 investors. 19 are institutional investors including Lightspeed Venture Partners and 18 others. 3 are Angel investors including Xavier Niel and 2 others. Databricks, made their first investment in Mistral AI on Mar 14, 2024 in its Series A round.\"]\n",
      "\n",
      "company: Mistral AI: 1 0 1 1 0\n",
      "reference: Example({'question': 'What is the latest confirmed valuation of Mistral AI. Include date, raised amount, the series name of the funding round and VCs', 'company': 'Mistral AI', 'valuation': '$2B', 'date': 'December 2023', 'raised': '$415M', 'round': 'Series A', 'VCs': 'Lightspeed Venture Partners, General Catalyst'}) (input_keys={'question'})\n",
      "predicted: Prediction(\n",
      "    valuation='$2B',\n",
      "    date='December 11, 2023',\n",
      "    raised='$415M',\n",
      "    round='Series A\\n\\nVCs: Andreessen Horowitz, Lightspeed Venture Partners, Salesforce, BNP Paribas, CMA-CGM, General Catalyst, Elad Gil, Conviction',\n",
      "    VCs='Andreessen Horowitz, Lightspeed Venture Partners, Salesforce, BNP Paribas, CMA-CGM, General Catalyst, Elad Gil, Conviction'\n",
      ")\n",
      "Average Metric: 2.6 / 5  (52.0%)\n"
     ]
    },
    {
     "name": "stderr",
     "output_type": "stream",
     "text": [
      "\n"
     ]
    },
    {
     "data": {
      "text/plain": [
       "52.0"
      ]
     },
     "execution_count": 16,
     "metadata": {},
     "output_type": "execute_result"
    }
   ],
   "source": [
    "from dspy.evaluate import Evaluate\n",
    "\n",
    "evaluate(compiled_rag_predictor, devset=devset[:])"
   ]
  },
  {
   "cell_type": "code",
   "execution_count": 19,
   "metadata": {},
   "outputs": [
    {
     "name": "stdout",
     "output_type": "stream",
     "text": [
      "Example({'question': 'What is the latest confirmed valuation of ElevenLabs. Include date, raised amount, the series name of the funding round and VCs', 'company': 'ElevenLabs'}) (input_keys={'question'})\n",
      "question: What is the latest confirmed valuation of ElevenLabs. Include date, raised amount, the series name of the funding round and VCs, context: ['Last funding round type (e.g. Seed, Series A, Private Equity)', \"ElevenLabs researching and deploying novel methods in voice AI to make content enjoyable in any language and voice to benefit new audiences and viewers. The company's mission is to make content universally accessible in any language and voice.\", 'View contacts for ElevenLabs to access new leads and connect with decision-makers. View All Contacts', 'ElevenLabs Inc.', \"ElevenLabs has raised $101M over 5 rounds. ElevenLabs's latest funding round was a Incubator/Accelerator for on February 23, 2024. ElevenLabs's valuation in January 2024 was $1,100M.\", \"ElevenLabs's deal structure is available for 2 funding rounds, including their Series B from January 22, 2024. ... ElevenLabs has 15 investors. Disney Accelerator invested in ElevenLabs's Incubator/Accelerator funding round.\", \"Disney Accelerator invested in ElevenLabs's Incubator/Accelerator funding round. ... ElevenLabs has made 2 investments. Their latest investment was in Spinnr as part of their Grant on February 15, 2024. ... CB Insights puts confidence and clarity into your most strategic decisions. See how. Join a demo. ... Let's see how we can help you! ... Respeecher provides a voice cloning technology platform. The company offers a service that allows users to replicate any voice, creating synthetic speech that is indistinguishable from the original speaker.\", \"Sign up for a free demo to see ElevenLabs's valuations in May 2023 and more. ... You're one click away from the most comprehensive, unmatched analyst expertise in tech, in-depth private company data and a platform that brings it all together. Click Now. Join a live demo · Looking for a leg up on competitive, customer and technology insights? CB Insights puts confidence and clarity into your most strategic decisions. See how. Join a demo. ... Let's see how we can help you! ElevenLabs's deal structure is available for 2 funding rounds, including their Series B from January 22, 2024.\"]\n",
      "Prediction(\n",
      "    valuation='$1.1B',\n",
      "    date='January 2024',\n",
      "    raised='$101M',\n",
      "    round='Incubator/Accelerator\\n\\nVCs: Disney Accelerator',\n",
      "    VCs='Disney Accelerator'\n",
      ")\n"
     ]
    }
   ],
   "source": [
    "# test RAG\n",
    "\n",
    "rag_predictor = RAG()\n",
    "\n",
    "print(testset[1])\n",
    "result=compiled_rag_predictor(question=testset[1].question)\n",
    "print(result)"
   ]
  },
  {
   "cell_type": "code",
   "execution_count": 20,
   "metadata": {},
   "outputs": [
    {
     "name": "stdout",
     "output_type": "stream",
     "text": [
      "\n",
      "\n",
      "\n",
      "\n",
      "Company's latest confirmed valuation.\n",
      "\n",
      "---\n",
      "\n",
      "Question: What is the latest confirmed valuation of Groq. Include date, raised amount, the series name of the funding round and VCs\n",
      "Valuation: $1B\n",
      "Date: February 2024\n",
      "Raised: $149.9M\n",
      "Round: Series C\n",
      "V Cs: Tiger Global, D1 Capital\n",
      "\n",
      "Question: What is the latest confirmed valuation of Perplexity. Include date, raised amount, the series name of the funding round and VCs\n",
      "Valuation: $1B\n",
      "Date: April 2024\n",
      "Raised: $62.7M\n",
      "Round: Series B1\n",
      "V Cs: Daniel Gross\n",
      "\n",
      "---\n",
      "\n",
      "Follow the following format.\n",
      "\n",
      "Context: Contains relevant facts about the company\n",
      "\n",
      "Question: The question about company valuation\n",
      "\n",
      "Valuation: Company valuation\n",
      "\n",
      "Date: When the valuation was confirmed\n",
      "\n",
      "Raised: Amount raised in the latest funding round\n",
      "\n",
      "Round: the series name of the funding round (Series A, Series B, etc)\n",
      "\n",
      "V Cs: Venture capitalists involved in the latest funding round\n",
      "\n",
      "---\n",
      "\n",
      "Context:\n",
      "[1] «Cohere's largest funding round was a Series C round held on May 02, 2023 for $270M. Cohere' valuation is $2.1B as on Jun 09, 2023. Yes Cohere is a Unicorn, with a valuation of $2.1B. ... Venture CapitalsPrivate EquitiesAccelerators & IncubatorsInvestment BanksInnovation TeamsLarge Corporates - M&AJournalists & Media Houses ... Cureskin - Bengaluru based, raised a funding of $20M in Series B round held on 13 Mar, 2024.»\n",
      "[2] «Cohere raised an undisclosed amount in its latest funding round, which was Series C round held on Jul 18, 2023. Cohere has raised a total funding of $435M over 4 rounds.»\n",
      "[3] «Sapphire Ventures is the lead investor in Cohere's latest funding round held on Jul 18, 2023. Cohere has total 21 investors. 17 are institutional investors including Oracle and 16 others. 4 are Angel investors including Pieter Abbeel and 3 others. Sapphire Ventures, located in Austin (United States), made their first investment in Cohere on Jul 18, 2023 in its Series C round.»\n",
      "[4] «Sapphire Ventures, located in Austin (United States), made their first investment in Cohere on Jul 18, 2023 in its Series C round. Inovia Capital, located in Montreal (Canada), made their first investment in Cohere on May 02, 2023 in its Series C round.»\n",
      "[5] «Of course, the Cohere and Anthropic deals are not the only huge AI deals recently. In April, AlphaSense, an AI-enhanced market intelligence platform, raised $100 million from investors that included CapitalG — Alphabet’s independent growth fund. In March, Character.ai closed a $150 million Series A at a $1 billion valuation led by Andreessen Horowitz.»\n",
      "[6] «Toronto-based Cohere became the latest artificial intelligence startup to raise big money at an even bigger valuation. The startup raised a $270 million Series C led by Inovia Capital at a valuation of $2.2 billion. Other investors in the round include some big corporate names — Nvidia, Oracle, Salesforce Ventures1, DTCP and SentinelOne — as well as financial institutions and VC firms Mirae Asset, Schroders Capital, Thomvest Ventures and Index Ventures.»\n",
      "[7] «The startup raised a $270 million Series C led by Inovia Capital at a valuation of $2.2 billion. Other investors in the round include some big corporate names — Nvidia, Oracle, Salesforce Ventures1, DTCP and SentinelOne — as well as financial institutions and VC firms Mirae Asset, Schroders Capital, Thomvest Ventures and Index Ventures. Grow your revenue with all-in-one prospecting solutions powered by the leader in private-company data. ... Cohere builds large language models that allow AI to learn from new data, and can be customized and put into applications for features like interactive chat or to generate text.»\n",
      "[8] «The same can be said for Salesforce Ventures, which just last month participated in the $450 million Series C for Anthropic — a ChatGPT rival with its AI assistant Claude — which also included Google and Zoom Ventures. Of course, the Cohere and Anthropic deals are not the only huge AI deals recently. In April, AlphaSense, an AI-enhanced market intelligence platform, raised $100 million from investors that included CapitalG — Alphabet’s independent growth fund.»\n",
      "[9] «Computer Reseller News UK — Big vendors cash in on Cohere's AI platform as company announces $270m series C funding ... VentureBeat — Oracle founder Larry Ellison confirms new gen AI service with Cohere during earnings call»\n",
      "[10] «Tech Funding News — AI investment boom: Canada’s ChatGPT rival Cohere gets $270M capital injection at $2.2B valuation»\n",
      "[11] «Business Insider — Oracle is betting its AI future on a company called Cohere. Here's why this little-known startup is becoming OpenAI's chief rival.»\n",
      "[12] «VentureBeat — Cohere CEO and president discuss Nvidia and Oracle funding, Hinton comments and the future of LLMs»\n",
      "\n",
      "Question: What is the latest confirmed valuation of Cohere. Include date, raised amount, the series name of the funding round and VCs\n",
      "\n",
      "Valuation: $2.2B\n",
      "\n",
      "Date: July 18, 2023\n",
      "\n",
      "Raised: $270M\n",
      "\n",
      "Round: Series C VCs: Inovia Capital, Nvidia, Oracle, Salesforce Ventures, DTCP, SentinelOne, Mirae Asset, Schroders Capital, Thomvest Ventures, Index Ventures\n",
      "\n",
      "V Cs: Inovia Capital, Nvidia, Oracle, Salesforce Ventures, DTCP, SentinelOne, Mirae Asset, Schroders Capital, Thomvest Ventures, Index Ventures\n",
      "\n",
      "---\n",
      "\n",
      "Context:\n",
      "[1] «Generative AI startup Anthropic is reportedly in talks to raise $750 million in fresh capital in a deal that would value it upwards of $18 billion. The San Francisco-based startup is in talks to raise funding in a Menlo Ventures-led deal, The Information first reported Wednesday, citing three sources familiar with the matter.»\n",
      "[2] «The funding would value Anthropic at $15 billion premoney, the publication reported — more than triple its valuation earlier this year — and more than $18 billion in the final deal. CNBC confirmed the funding talks Thursday, citing a person with direct knowledge of the matter. It said Anthropic’s new funding would come at a valuation of up to $18.4 billion.»\n",
      "[3] «The San Francisco-based startup is in talks to raise funding in a Menlo Ventures-led deal, The Information first reported Wednesday, citing three sources familiar with the matter. The funding would value Anthropic at $15 billion premoney, the publication reported — more than triple its valuation earlier this year — and more than $18 billion in the final deal.»\n",
      "[4] «It said Anthropic’s new funding would come at a valuation of up to $18.4 billion. While the deal would represent a huge valuation boost for Anthropic, the startup was previously aiming for a valuation of $20 billion to $30 billion, The Information reported earlier. Anthropic has around 300 employees and was aiming for $200 million in annualized recurring revenue as of October, the publication has reported. Anthropic has already raised $7.6 billion from investors including Google and Amazon, according to Crunchbase data.»\n",
      "[5] «The valuation is a significant drop, as the company was valued at $95 billion in March 2021, and earlier this year it was reported this round would be at a $60 billion valuation. The company said it would use the new cash to provide liquidity to current and former employees, and help offset a tax bill that will come due when it modifies employees’ stock grants that are set to expire (which we’ve talked about before). No lead investor was announced, but firms including Andreessen Horowitz, Founders Fund and General Catalyst participated. 3. Anthropic, $4B: San Francisco-based Anthropic raised nearly $7 billion in funding this year alone — so it was busy.»\n",
      "[6] «The immediate investment is $1.25 billion, with either party having the right to trigger another $2.75 billion in funding, Reuters reported. As part of the deal, Anthropic will now use Amazon Web Services data centers, as well as AWS Trainium and Inferentia chips to build, train and deploy its models. No valuation was given with the round.»\n",
      "[7] «As part of the deal, Anthropic will now use Amazon Web Services data centers, as well as AWS Trainium and Inferentia chips to build, train and deploy its models. No valuation was given with the round. The new investment is just the latest in what has become a fundraising spree for Anthropic this year.»\n",
      "[8] «The South San Francisco-based company raised a $6.5 billion Series I at a $50 billion valuation. The valuation is a significant drop, as the company was valued at $95 billion in March 2021, and earlier this year it was reported this round would be at a $60 billion valuation.»\n",
      "[9] «Anthropic, the OpenAI rival founded by ex-OpenAI employees, is in talks to raise a $750 million funding round led by Menlo Ventures, a person with direct knowledge of the matter told CNBC. The round would value Anthropic at up to $18.4 billion, per the source — nearly 4.5 times the startup's $4.1 billion valuation earlier this year.»\n",
      "[10] «The round would value Anthropic at up to $18.4 billion, per the source — nearly 4.5 times the startup's $4.1 billion valuation earlier this year. Anthropic had already raised a combined $750 million from funding rounds in April and May, and in October, Google agreed to invest up to $2 billion in the startup over time.»\n",
      "[11] «The round would value Anthropic at up to $18.4 billion, per the source — nearly 4.5 times the startup's $4.1 billion valuation earlier this year. News of the fundraise was previously reported by The Information. Anthropic declined to comment for this story. Founded in 2021 and funded by companies including Google, Salesforce and Zoom, Anthropic had already raised a combined $750 million from two funding rounds in April and May, one of which involved Google taking a 10% stake in the company.»\n",
      "[12] «Founded in 2021 and funded by companies including Google, Salesforce and Zoom, Anthropic had already raised a combined $750 million from two funding rounds in April and May, one of which involved Google taking a 10% stake in the company. Anthropic's May fundraise marked, at the time, the largest artificial intelligence company funding round since Microsoft's investment in OpenAI in January, according to PitchBook data.»\n",
      "\n",
      "Question: What is the latest confirmed valuation of Anthropic. Include date, raised amount, the series name of the funding round and VCs\n",
      "\n",
      "Valuation: $18.4B\n",
      "\n",
      "Date: Not specified\n",
      "\n",
      "Raised: $750M\n",
      "\n",
      "Round: Not specified VCs: Menlo Ventures, Google\n",
      "\n",
      "V Cs: Menlo Ventures, Google\n",
      "\n",
      "---\n",
      "\n",
      "Context:\n",
      "[1] «PR Newswire — Weaviate Raises $50 Million Series B Funding to Meet Soaring Demand for AI Native Vector Database Technology ... Venture Capital Firms — Weaviate Raises $50 Million Series B Funding to Meet Soaring Demand for AI Native Vector Database Technology»\n",
      "[2] «investorsobserver.com — Weaviate Raises $50 Million Series B Funding to Meet Soaring Demand for AI Native Vector Database Technology ... PR Newswire — Weaviate Raises $50 Million Series B Funding to Meet Soaring Demand for AI Native Vector Database Technology»\n",
      "[3] «Silicon Canals — Amsterdam’s Weaviate.io secures €45.6M for its open-source vector database Weaviate»\n",
      "[4] «Terms of Service | Privacy Policy | Sitemap | © 2024 Crunchbase Inc. All Rights Reserved. ... Transaction Name: Auto-generated name of transaction (e.g. Angel - Uber) Number of Investors: Total number of Investors in a Funding Round · Money Raised: Amount of money raised in Funding Round»\n",
      "[5] «Weaviate develops an open-source vector database.»\n",
      "[6] «Series B round. ... Battery Ventures are the most recent investors. ... Series B round.»\n",
      "[7] «Which investors participated in the most funding rounds? ... Terms of Service | Privacy Policy | Sitemap | © 2024 Crunchbase Inc. All Rights Reserved.»\n",
      "[8] «Weaviate raised $50M in its latest funding round, which was Series B round held on Apr 20, 2023. Weaviate has raised a total funding of $50M over 2 rounds.»\n",
      "[9] «Index Ventures is the lead investor in Weaviate's latest funding round held on Apr 20, 2023. Weaviate has total 6 investors. 6 are institutional investors including Index Ventures and 5 others. Index Ventures, made their first investment in Weaviate on Apr 20, 2023 in its Series B round.»\n",
      "[10] «Index Ventures, made their first investment in Weaviate on Apr 20, 2023 in its Series B round. Battery Ventures, made their first investment in Weaviate on Apr 20, 2023 in its Series B round.View all Weaviate Investors»\n",
      "[11] «Weaviate's largest funding round was a Series B round held on Apr 20, 2023 for $50M.»\n",
      "\n",
      "Question: What is the latest confirmed valuation of Weaviate. Include date, raised amount, the series name of the funding round and VCs\n",
      "\n",
      "Valuation: $50M\n",
      "\n",
      "Date: April 20, 2023\n",
      "\n",
      "Raised: $50M\n",
      "\n",
      "Round: Series B VCs: Battery Ventures, Index Ventures\n",
      "\n",
      "V Cs: Battery Ventures, Index Ventures\n",
      "\n",
      "---\n",
      "\n",
      "Context:\n",
      "[1] «Last funding round type (e.g. Seed, Series A, Private Equity)»\n",
      "[2] «ElevenLabs researching and deploying novel methods in voice AI to make content enjoyable in any language and voice to benefit new audiences and viewers. The company's mission is to make content universally accessible in any language and voice.»\n",
      "[3] «View contacts for ElevenLabs to access new leads and connect with decision-makers. View All Contacts»\n",
      "[4] «ElevenLabs Inc.»\n",
      "[5] «ElevenLabs has raised $101M over 5 rounds. ElevenLabs's latest funding round was a Incubator/Accelerator for on February 23, 2024. ElevenLabs's valuation in January 2024 was $1,100M.»\n",
      "[6] «ElevenLabs's deal structure is available for 2 funding rounds, including their Series B from January 22, 2024. ... ElevenLabs has 15 investors. Disney Accelerator invested in ElevenLabs's Incubator/Accelerator funding round.»\n",
      "[7] «Disney Accelerator invested in ElevenLabs's Incubator/Accelerator funding round. ... ElevenLabs has made 2 investments. Their latest investment was in Spinnr as part of their Grant on February 15, 2024. ... CB Insights puts confidence and clarity into your most strategic decisions. See how. Join a demo. ... Let's see how we can help you! ... Respeecher provides a voice cloning technology platform. The company offers a service that allows users to replicate any voice, creating synthetic speech that is indistinguishable from the original speaker.»\n",
      "[8] «Sign up for a free demo to see ElevenLabs's valuations in May 2023 and more. ... You're one click away from the most comprehensive, unmatched analyst expertise in tech, in-depth private company data and a platform that brings it all together. Click Now. Join a live demo · Looking for a leg up on competitive, customer and technology insights? CB Insights puts confidence and clarity into your most strategic decisions. See how. Join a demo. ... Let's see how we can help you! ElevenLabs's deal structure is available for 2 funding rounds, including their Series B from January 22, 2024.»\n",
      "\n",
      "Question: What is the latest confirmed valuation of ElevenLabs. Include date, raised amount, the series name of the funding round and VCs\n",
      "\n",
      "Valuation: $1.1B\n",
      "\n",
      "Date: January 2024\n",
      "\n",
      "Raised: $101M\n",
      "\n",
      "Round: Incubator/Accelerator VCs: Disney Accelerator\n",
      "\n",
      "V Cs:\u001b[32m Disney Accelerator\u001b[0m\n",
      "\n",
      "\n",
      "\n"
     ]
    }
   ],
   "source": [
    "gpt3_model.inspect_history(n=1)"
   ]
  }
 ],
 "metadata": {
  "kernelspec": {
   "display_name": "pytorch-3.10",
   "language": "python",
   "name": "python3"
  },
  "language_info": {
   "codemirror_mode": {
    "name": "ipython",
    "version": 3
   },
   "file_extension": ".py",
   "mimetype": "text/x-python",
   "name": "python",
   "nbconvert_exporter": "python",
   "pygments_lexer": "ipython3",
   "version": "3.10.14"
  }
 },
 "nbformat": 4,
 "nbformat_minor": 2
}
